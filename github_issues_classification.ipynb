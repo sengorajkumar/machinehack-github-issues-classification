{
  "nbformat": 4,
  "nbformat_minor": 0,
  "metadata": {
    "colab": {
      "name": "github_issues_classification.ipynb",
      "provenance": [],
      "authorship_tag": "ABX9TyN24qwCC1A/zwACBEGlKtc8",
      "include_colab_link": true
    },
    "kernelspec": {
      "name": "python3",
      "display_name": "Python 3"
    },
    "accelerator": "GPU"
  },
  "cells": [
    {
      "cell_type": "markdown",
      "metadata": {
        "id": "view-in-github",
        "colab_type": "text"
      },
      "source": [
        "<a href=\"https://colab.research.google.com/github/sengorajkumar/machinehack-github-issues-classification/blob/main/github_issues_classification.ipynb\" target=\"_parent\"><img src=\"https://colab.research.google.com/assets/colab-badge.svg\" alt=\"Open In Colab\"/></a>"
      ]
    },
    {
      "cell_type": "code",
      "metadata": {
        "id": "8BSgCvi_gzYG"
      },
      "source": [
        "%reload_ext autoreload\n",
        "%autoreload 2\n",
        "%matplotlib inline\n",
        "from fastai.text import *\n",
        "import torch\n",
        "import fastai\n",
        "import pandas as pd\n",
        "import matplotlib.pyplot as plt\n",
        "import seaborn as sns"
      ],
      "execution_count": null,
      "outputs": []
    },
    {
      "cell_type": "code",
      "metadata": {
        "id": "oj6bW3vTg7z8",
        "colab": {
          "base_uri": "https://localhost:8080/",
          "height": 35
        },
        "outputId": "04a851fa-a638-49ba-f703-2bfae7c258f9"
      },
      "source": [
        "fastai.__version__"
      ],
      "execution_count": null,
      "outputs": [
        {
          "output_type": "execute_result",
          "data": {
            "application/vnd.google.colaboratory.intrinsic+json": {
              "type": "string"
            },
            "text/plain": [
              "'1.0.61'"
            ]
          },
          "metadata": {
            "tags": []
          },
          "execution_count": 3
        }
      ]
    },
    {
      "cell_type": "code",
      "metadata": {
        "id": "lZyT2v1EJxVG"
      },
      "source": [
        "!ln -sf /opt/bin/nvidia-smi /usr/bin/nvidia-smi\n",
        "#import commands\n",
        "#print(commands.getoutput('nvidia-smi'))"
      ],
      "execution_count": null,
      "outputs": []
    },
    {
      "cell_type": "code",
      "metadata": {
        "id": "X2J91E_IhZcz",
        "colab": {
          "base_uri": "https://localhost:8080/",
          "height": 34
        },
        "outputId": "9fc45bad-32c2-4a75-97d1-0e16b6da759a"
      },
      "source": [
        "defaults.device"
      ],
      "execution_count": null,
      "outputs": [
        {
          "output_type": "execute_result",
          "data": {
            "text/plain": [
              "device(type='cuda')"
            ]
          },
          "metadata": {
            "tags": []
          },
          "execution_count": 5
        }
      ]
    },
    {
      "cell_type": "code",
      "metadata": {
        "id": "EfI08JrPhcfi",
        "colab": {
          "base_uri": "https://localhost:8080/",
          "height": 34
        },
        "outputId": "6321e181-b3c1-42ff-e2c6-69e24ad43df2"
      },
      "source": [
        "from google.colab import drive\n",
        "drive.mount('/content/drive')"
      ],
      "execution_count": null,
      "outputs": [
        {
          "output_type": "stream",
          "text": [
            "Mounted at /content/drive\n"
          ],
          "name": "stdout"
        }
      ]
    },
    {
      "cell_type": "code",
      "metadata": {
        "id": "AhqwyzLJh3LT"
      },
      "source": [
        "path = '/ml/github'\n",
        "train = pd.read_json('/content/drive/My Drive/ml/github/embold_train.json')\n",
        "test = pd.read_json('/content/drive/My Drive/ml/github/embold_test.json')\n",
        "train_extra = pd.read_json('/content/drive/My Drive/ml/github/embold_train_extra.json')"
      ],
      "execution_count": null,
      "outputs": []
    },
    {
      "cell_type": "markdown",
      "metadata": {
        "id": "nJhIWRrQlG9h"
      },
      "source": [
        "Labels:\n",
        "* Bug - 0\n",
        "* Feature - 1\n",
        "* Question - 2"
      ]
    },
    {
      "cell_type": "code",
      "metadata": {
        "id": "Mqs0ghPdjkaW",
        "colab": {
          "base_uri": "https://localhost:8080/",
          "height": 85
        },
        "outputId": "76bb4b8e-adc6-4ad7-fac6-09e22a7a54f0"
      },
      "source": [
        "train.label.value_counts()"
      ],
      "execution_count": null,
      "outputs": [
        {
          "output_type": "execute_result",
          "data": {
            "text/plain": [
              "1    69106\n",
              "0    66827\n",
              "2    14067\n",
              "Name: label, dtype: int64"
            ]
          },
          "metadata": {
            "tags": []
          },
          "execution_count": 8
        }
      ]
    },
    {
      "cell_type": "markdown",
      "metadata": {
        "id": "jsBKfg47lFPO"
      },
      "source": [
        ""
      ]
    },
    {
      "cell_type": "code",
      "metadata": {
        "id": "p_wCJAslj3QB",
        "colab": {
          "base_uri": "https://localhost:8080/",
          "height": 204
        },
        "outputId": "696b6461-a510-4121-89ea-c52be17d365d"
      },
      "source": [
        "train.head()"
      ],
      "execution_count": null,
      "outputs": [
        {
          "output_type": "execute_result",
          "data": {
            "text/html": [
              "<div>\n",
              "<style scoped>\n",
              "    .dataframe tbody tr th:only-of-type {\n",
              "        vertical-align: middle;\n",
              "    }\n",
              "\n",
              "    .dataframe tbody tr th {\n",
              "        vertical-align: top;\n",
              "    }\n",
              "\n",
              "    .dataframe thead th {\n",
              "        text-align: right;\n",
              "    }\n",
              "</style>\n",
              "<table border=\"1\" class=\"dataframe\">\n",
              "  <thead>\n",
              "    <tr style=\"text-align: right;\">\n",
              "      <th></th>\n",
              "      <th>title</th>\n",
              "      <th>body</th>\n",
              "      <th>label</th>\n",
              "    </tr>\n",
              "  </thead>\n",
              "  <tbody>\n",
              "    <tr>\n",
              "      <th>0</th>\n",
              "      <td>y-zoom piano roll</td>\n",
              "      <td>a y-zoom on the piano roll would be useful.</td>\n",
              "      <td>1</td>\n",
              "    </tr>\n",
              "    <tr>\n",
              "      <th>1</th>\n",
              "      <td>buggy behavior in selection</td>\n",
              "      <td>! screenshot from 2016-02-23 21 27 40  https:/...</td>\n",
              "      <td>0</td>\n",
              "    </tr>\n",
              "    <tr>\n",
              "      <th>2</th>\n",
              "      <td>auto update feature</td>\n",
              "      <td>hi,\\r \\r great job so far, @saenzramiro ! : \\r...</td>\n",
              "      <td>1</td>\n",
              "    </tr>\n",
              "    <tr>\n",
              "      <th>3</th>\n",
              "      <td>filter out noisy endpoints in logs</td>\n",
              "      <td>i think we should stop logging requests to:\\r ...</td>\n",
              "      <td>1</td>\n",
              "    </tr>\n",
              "    <tr>\n",
              "      <th>4</th>\n",
              "      <td>enable pid on / pid off alarm actions for ardu...</td>\n",
              "      <td>expected behavior\\r alarm actions pid on and p...</td>\n",
              "      <td>0</td>\n",
              "    </tr>\n",
              "  </tbody>\n",
              "</table>\n",
              "</div>"
            ],
            "text/plain": [
              "                                               title  ... label\n",
              "0                                  y-zoom piano roll  ...     1\n",
              "1                        buggy behavior in selection  ...     0\n",
              "2                                auto update feature  ...     1\n",
              "3                 filter out noisy endpoints in logs  ...     1\n",
              "4  enable pid on / pid off alarm actions for ardu...  ...     0\n",
              "\n",
              "[5 rows x 3 columns]"
            ]
          },
          "metadata": {
            "tags": []
          },
          "execution_count": 9
        }
      ]
    },
    {
      "cell_type": "code",
      "metadata": {
        "id": "hbHav2Ej0EUL"
      },
      "source": [
        "import re\n",
        "def remove_url(text):\n",
        "# function to remove urls\n",
        "  return (re.sub(r'\\w+:\\/{2}[\\d\\w-]+(\\.[\\d\\w-]+)*(?:(?:\\/[^\\s/]*))*', '',text))\n",
        "\n",
        "def replace_r(text):\n",
        "  return text.replace(' r ', '')\n",
        "\n",
        "def remove_whitespace(text):\n",
        "  return ' '.join(text.split())"
      ],
      "execution_count": null,
      "outputs": []
    },
    {
      "cell_type": "code",
      "metadata": {
        "id": "5KCwneoj194u",
        "colab": {
          "base_uri": "https://localhost:8080/",
          "height": 34
        },
        "outputId": "3b51a1b3-2aea-4ac9-9f49-9a3b2fae0d30"
      },
      "source": [
        "train['body'] = train['body'].apply(remove_url)\n",
        "#train['body'] = train['body'].astype('str') \n",
        "#train['body'] = train['body'].str.replace(\"\\\\r\",\"\")\n",
        "train['body'] = train['body'].str.replace(\"[^a-zA-Z]\", \" \")\n",
        "train['body'] = train['body'].apply(replace_r)\n",
        "train['body'] = train['body'].apply(remove_whitespace)\n",
        "\n",
        "#train.dtypes\n",
        "print(train.iloc[6][1])\n",
        "#re.sub(r'\\w+:\\/{2}[\\d\\w-]+(\\.[\\d\\w-]+)*(?:(?:\\/[^\\s/]*))*', '', train.iloc[6][1])\n",
        "#"
      ],
      "execution_count": null,
      "outputs": [
        {
          "output_type": "stream",
          "text": [
            "release electron v beta electron electron\n"
          ],
          "name": "stdout"
        }
      ]
    },
    {
      "cell_type": "code",
      "metadata": {
        "id": "xrav2YT7eSvt",
        "colab": {
          "base_uri": "https://localhost:8080/",
          "height": 54
        },
        "outputId": "f3895953-4b82-4ec1-a2bf-f68bd7914348"
      },
      "source": [
        "print(train.iloc[1668][1])\n"
      ],
      "execution_count": null,
      "outputs": [
        {
          "output_type": "stream",
          "text": [
            "hi i fount this code for android to open webview urls outside of the app exports webviewloaded function args var webview args object var tnswebviewclient android webkit webviewclient extend shouldoverrideurlloading function view url if url null url startswith https console log url utilitymodule openurl url return true else return false if isandroid webview android getsettings setdisplayzoomcontrols false webview android getsettings setbuiltinzoomcontrols false webview android setwebviewclient new tnswebviewclient it works fine is there a way to do the same for ios thank you r\n"
          ],
          "name": "stdout"
        }
      ]
    },
    {
      "cell_type": "code",
      "metadata": {
        "id": "ku8bX572FZtu"
      },
      "source": [
        "train['title'] = train['title'].apply(remove_url)\n",
        "train['title'] = train['title'].str.replace(\"[^a-zA-Z]\", \" \")\n",
        "train['title'] = train['title'].apply(replace_r)\n",
        "train['title'] = train['title'].apply(remove_whitespace)"
      ],
      "execution_count": null,
      "outputs": []
    },
    {
      "cell_type": "code",
      "metadata": {
        "id": "3tJhwGXJ-tUH",
        "colab": {
          "base_uri": "https://localhost:8080/",
          "height": 204
        },
        "outputId": "17c63fc5-1dc4-4b72-c131-fafa07c17251"
      },
      "source": [
        "train.head()"
      ],
      "execution_count": null,
      "outputs": [
        {
          "output_type": "execute_result",
          "data": {
            "text/html": [
              "<div>\n",
              "<style scoped>\n",
              "    .dataframe tbody tr th:only-of-type {\n",
              "        vertical-align: middle;\n",
              "    }\n",
              "\n",
              "    .dataframe tbody tr th {\n",
              "        vertical-align: top;\n",
              "    }\n",
              "\n",
              "    .dataframe thead th {\n",
              "        text-align: right;\n",
              "    }\n",
              "</style>\n",
              "<table border=\"1\" class=\"dataframe\">\n",
              "  <thead>\n",
              "    <tr style=\"text-align: right;\">\n",
              "      <th></th>\n",
              "      <th>title</th>\n",
              "      <th>body</th>\n",
              "      <th>label</th>\n",
              "    </tr>\n",
              "  </thead>\n",
              "  <tbody>\n",
              "    <tr>\n",
              "      <th>0</th>\n",
              "      <td>y zoom piano roll</td>\n",
              "      <td>a y zoom on the piano roll would be useful</td>\n",
              "      <td>1</td>\n",
              "    </tr>\n",
              "    <tr>\n",
              "      <th>1</th>\n",
              "      <td>buggy behavior in selection</td>\n",
              "      <td>screenshot from r</td>\n",
              "      <td>0</td>\n",
              "    </tr>\n",
              "    <tr>\n",
              "      <th>2</th>\n",
              "      <td>auto update feature</td>\n",
              "      <td>hi great job so far saenzramiro an auto update...</td>\n",
              "      <td>1</td>\n",
              "    </tr>\n",
              "    <tr>\n",
              "      <th>3</th>\n",
              "      <td>filter out noisy endpoints in logs</td>\n",
              "      <td>i think we should stop logging requests to hea...</td>\n",
              "      <td>1</td>\n",
              "    </tr>\n",
              "    <tr>\n",
              "      <th>4</th>\n",
              "      <td>enable pid on pid off alarm actions for arduin...</td>\n",
              "      <td>expected behavioralarm actions pid on and pid ...</td>\n",
              "      <td>0</td>\n",
              "    </tr>\n",
              "  </tbody>\n",
              "</table>\n",
              "</div>"
            ],
            "text/plain": [
              "                                               title  ... label\n",
              "0                                  y zoom piano roll  ...     1\n",
              "1                        buggy behavior in selection  ...     0\n",
              "2                                auto update feature  ...     1\n",
              "3                 filter out noisy endpoints in logs  ...     1\n",
              "4  enable pid on pid off alarm actions for arduin...  ...     0\n",
              "\n",
              "[5 rows x 3 columns]"
            ]
          },
          "metadata": {
            "tags": []
          },
          "execution_count": 14
        }
      ]
    },
    {
      "cell_type": "code",
      "metadata": {
        "id": "67r7PfWU2GCG"
      },
      "source": [
        "mapping = {\n",
        "  0: 'bug',\n",
        "  1: 'feature',\n",
        "  2: 'question'}"
      ],
      "execution_count": null,
      "outputs": []
    },
    {
      "cell_type": "code",
      "metadata": {
        "id": "8HdBqc8zGOTW"
      },
      "source": [
        "train[\"text\"] = train[\"title\"] + train[\"body\"]"
      ],
      "execution_count": null,
      "outputs": []
    },
    {
      "cell_type": "code",
      "metadata": {
        "id": "CPuz1O-CGVZu",
        "colab": {
          "base_uri": "https://localhost:8080/",
          "height": 589
        },
        "outputId": "57717c53-b8f5-4a2a-a5ee-b98241a2e683"
      },
      "source": [
        "train"
      ],
      "execution_count": null,
      "outputs": [
        {
          "output_type": "execute_result",
          "data": {
            "text/html": [
              "<div>\n",
              "<style scoped>\n",
              "    .dataframe tbody tr th:only-of-type {\n",
              "        vertical-align: middle;\n",
              "    }\n",
              "\n",
              "    .dataframe tbody tr th {\n",
              "        vertical-align: top;\n",
              "    }\n",
              "\n",
              "    .dataframe thead th {\n",
              "        text-align: right;\n",
              "    }\n",
              "</style>\n",
              "<table border=\"1\" class=\"dataframe\">\n",
              "  <thead>\n",
              "    <tr style=\"text-align: right;\">\n",
              "      <th></th>\n",
              "      <th>title</th>\n",
              "      <th>body</th>\n",
              "      <th>label</th>\n",
              "      <th>text</th>\n",
              "    </tr>\n",
              "  </thead>\n",
              "  <tbody>\n",
              "    <tr>\n",
              "      <th>0</th>\n",
              "      <td>y zoom piano roll</td>\n",
              "      <td>a y zoom on the piano roll would be useful</td>\n",
              "      <td>1</td>\n",
              "      <td>y zoom piano rolla y zoom on the piano roll wo...</td>\n",
              "    </tr>\n",
              "    <tr>\n",
              "      <th>1</th>\n",
              "      <td>buggy behavior in selection</td>\n",
              "      <td>screenshot from r</td>\n",
              "      <td>0</td>\n",
              "      <td>buggy behavior in selectionscreenshot from r</td>\n",
              "    </tr>\n",
              "    <tr>\n",
              "      <th>2</th>\n",
              "      <td>auto update feature</td>\n",
              "      <td>hi great job so far saenzramiro an auto update...</td>\n",
              "      <td>1</td>\n",
              "      <td>auto update featurehi great job so far saenzra...</td>\n",
              "    </tr>\n",
              "    <tr>\n",
              "      <th>3</th>\n",
              "      <td>filter out noisy endpoints in logs</td>\n",
              "      <td>i think we should stop logging requests to hea...</td>\n",
              "      <td>1</td>\n",
              "      <td>filter out noisy endpoints in logsi think we s...</td>\n",
              "    </tr>\n",
              "    <tr>\n",
              "      <th>4</th>\n",
              "      <td>enable pid on pid off alarm actions for arduin...</td>\n",
              "      <td>expected behavioralarm actions pid on and pid ...</td>\n",
              "      <td>0</td>\n",
              "      <td>enable pid on pid off alarm actions for arduin...</td>\n",
              "    </tr>\n",
              "    <tr>\n",
              "      <th>...</th>\n",
              "      <td>...</td>\n",
              "      <td>...</td>\n",
              "      <td>...</td>\n",
              "      <td>...</td>\n",
              "    </tr>\n",
              "    <tr>\n",
              "      <th>149995</th>\n",
              "      <td>suggestion getinventorylist should return rand...</td>\n",
              "      <td>note anything within these brackets will be hi...</td>\n",
              "      <td>1</td>\n",
              "      <td>suggestion getinventorylist should return rand...</td>\n",
              "    </tr>\n",
              "    <tr>\n",
              "      <th>149996</th>\n",
              "      <td>decoder displays some neurovault images incorr...</td>\n",
              "      <td>as noted by nicholst some neurovault images do...</td>\n",
              "      <td>0</td>\n",
              "      <td>decoder displays some neurovault images incorr...</td>\n",
              "    </tr>\n",
              "    <tr>\n",
              "      <th>149997</th>\n",
              "      <td>parser should return an error not an exception</td>\n",
              "      <td>for this raml yaml raml title testbaseuri name...</td>\n",
              "      <td>0</td>\n",
              "      <td>parser should return an error not an exception...</td>\n",
              "    </tr>\n",
              "    <tr>\n",
              "      <th>149998</th>\n",
              "      <td>errorexception array to string conversion on p...</td>\n",
              "      <td>see above occurs in branch routes</td>\n",
              "      <td>0</td>\n",
              "      <td>errorexception array to string conversion on p...</td>\n",
              "    </tr>\n",
              "    <tr>\n",
              "      <th>149999</th>\n",
              "      <td>ignore headings in code sections</td>\n",
              "      <td>do not process headings inside quotes and code...</td>\n",
              "      <td>0</td>\n",
              "      <td>ignore headings in code sectionsdo not process...</td>\n",
              "    </tr>\n",
              "  </tbody>\n",
              "</table>\n",
              "<p>150000 rows × 4 columns</p>\n",
              "</div>"
            ],
            "text/plain": [
              "                                                    title  ...                                               text\n",
              "0                                       y zoom piano roll  ...  y zoom piano rolla y zoom on the piano roll wo...\n",
              "1                             buggy behavior in selection  ...       buggy behavior in selectionscreenshot from r\n",
              "2                                     auto update feature  ...  auto update featurehi great job so far saenzra...\n",
              "3                      filter out noisy endpoints in logs  ...  filter out noisy endpoints in logsi think we s...\n",
              "4       enable pid on pid off alarm actions for arduin...  ...  enable pid on pid off alarm actions for arduin...\n",
              "...                                                   ...  ...                                                ...\n",
              "149995  suggestion getinventorylist should return rand...  ...  suggestion getinventorylist should return rand...\n",
              "149996  decoder displays some neurovault images incorr...  ...  decoder displays some neurovault images incorr...\n",
              "149997     parser should return an error not an exception  ...  parser should return an error not an exception...\n",
              "149998  errorexception array to string conversion on p...  ...  errorexception array to string conversion on p...\n",
              "149999                   ignore headings in code sections  ...  ignore headings in code sectionsdo not process...\n",
              "\n",
              "[150000 rows x 4 columns]"
            ]
          },
          "metadata": {
            "tags": []
          },
          "execution_count": 21
        }
      ]
    },
    {
      "cell_type": "code",
      "metadata": {
        "id": "ue4nXSzU2WJv",
        "colab": {
          "base_uri": "https://localhost:8080/",
          "height": 267
        },
        "outputId": "a856b5da-dee7-4092-8671-d3f18698adcf"
      },
      "source": [
        "train['label'].value_counts().plot.bar(rot=30);\n",
        "#https://www.analyticsvidhya.com/blog/2018/11/tutorial-text-classification-ulmfit-fastai-library/"
      ],
      "execution_count": null,
      "outputs": [
        {
          "output_type": "display_data",
          "data": {
            "image/png": "[encoded data removed]",
            "text/plain": [
              "<Figure size 432x288 with 1 Axes>"
            ]
          },
          "metadata": {
            "tags": [],
            "needs_background": "light"
          }
        }
      ]
    },
    {
      "cell_type": "code",
      "metadata": {
        "id": "4W1b-6cZ2xew"
      },
      "source": [
        "train = train.drop(['title', 'body'], axis=1)"
      ],
      "execution_count": null,
      "outputs": []
    },
    {
      "cell_type": "code",
      "metadata": {
        "id": "w8NV-S4dGz9s",
        "colab": {
          "base_uri": "https://localhost:8080/",
          "height": 34
        },
        "outputId": "70361a39-5042-45fb-dbd6-285764f540ed"
      },
      "source": [
        "print(\"Cuda available\" if torch.cuda.is_available() is True else \"CPU\")"
      ],
      "execution_count": null,
      "outputs": [
        {
          "output_type": "stream",
          "text": [
            "Cuda available\n"
          ],
          "name": "stdout"
        }
      ]
    },
    {
      "cell_type": "code",
      "metadata": {
        "id": "qvWi7CvZG2DC",
        "colab": {
          "base_uri": "https://localhost:8080/",
          "height": 419
        },
        "outputId": "0aaba0a0-3074-4adb-e29a-550d5743a32f"
      },
      "source": [
        "train"
      ],
      "execution_count": null,
      "outputs": [
        {
          "output_type": "execute_result",
          "data": {
            "text/html": [
              "<div>\n",
              "<style scoped>\n",
              "    .dataframe tbody tr th:only-of-type {\n",
              "        vertical-align: middle;\n",
              "    }\n",
              "\n",
              "    .dataframe tbody tr th {\n",
              "        vertical-align: top;\n",
              "    }\n",
              "\n",
              "    .dataframe thead th {\n",
              "        text-align: right;\n",
              "    }\n",
              "</style>\n",
              "<table border=\"1\" class=\"dataframe\">\n",
              "  <thead>\n",
              "    <tr style=\"text-align: right;\">\n",
              "      <th></th>\n",
              "      <th>label</th>\n",
              "      <th>text</th>\n",
              "    </tr>\n",
              "  </thead>\n",
              "  <tbody>\n",
              "    <tr>\n",
              "      <th>0</th>\n",
              "      <td>1</td>\n",
              "      <td>y zoom piano rolla y zoom on the piano roll wo...</td>\n",
              "    </tr>\n",
              "    <tr>\n",
              "      <th>1</th>\n",
              "      <td>0</td>\n",
              "      <td>buggy behavior in selectionscreenshot from r</td>\n",
              "    </tr>\n",
              "    <tr>\n",
              "      <th>2</th>\n",
              "      <td>1</td>\n",
              "      <td>auto update featurehi great job so far saenzra...</td>\n",
              "    </tr>\n",
              "    <tr>\n",
              "      <th>3</th>\n",
              "      <td>1</td>\n",
              "      <td>filter out noisy endpoints in logsi think we s...</td>\n",
              "    </tr>\n",
              "    <tr>\n",
              "      <th>4</th>\n",
              "      <td>0</td>\n",
              "      <td>enable pid on pid off alarm actions for arduin...</td>\n",
              "    </tr>\n",
              "    <tr>\n",
              "      <th>...</th>\n",
              "      <td>...</td>\n",
              "      <td>...</td>\n",
              "    </tr>\n",
              "    <tr>\n",
              "      <th>149995</th>\n",
              "      <td>1</td>\n",
              "      <td>suggestion getinventorylist should return rand...</td>\n",
              "    </tr>\n",
              "    <tr>\n",
              "      <th>149996</th>\n",
              "      <td>0</td>\n",
              "      <td>decoder displays some neurovault images incorr...</td>\n",
              "    </tr>\n",
              "    <tr>\n",
              "      <th>149997</th>\n",
              "      <td>0</td>\n",
              "      <td>parser should return an error not an exception...</td>\n",
              "    </tr>\n",
              "    <tr>\n",
              "      <th>149998</th>\n",
              "      <td>0</td>\n",
              "      <td>errorexception array to string conversion on p...</td>\n",
              "    </tr>\n",
              "    <tr>\n",
              "      <th>149999</th>\n",
              "      <td>0</td>\n",
              "      <td>ignore headings in code sectionsdo not process...</td>\n",
              "    </tr>\n",
              "  </tbody>\n",
              "</table>\n",
              "<p>150000 rows × 2 columns</p>\n",
              "</div>"
            ],
            "text/plain": [
              "        label                                               text\n",
              "0           1  y zoom piano rolla y zoom on the piano roll wo...\n",
              "1           0       buggy behavior in selectionscreenshot from r\n",
              "2           1  auto update featurehi great job so far saenzra...\n",
              "3           1  filter out noisy endpoints in logsi think we s...\n",
              "4           0  enable pid on pid off alarm actions for arduin...\n",
              "...       ...                                                ...\n",
              "149995      1  suggestion getinventorylist should return rand...\n",
              "149996      0  decoder displays some neurovault images incorr...\n",
              "149997      0  parser should return an error not an exception...\n",
              "149998      0  errorexception array to string conversion on p...\n",
              "149999      0  ignore headings in code sectionsdo not process...\n",
              "\n",
              "[150000 rows x 2 columns]"
            ]
          },
          "metadata": {
            "tags": []
          },
          "execution_count": 25
        }
      ]
    },
    {
      "cell_type": "markdown",
      "metadata": {
        "id": "6F4DHb5wHBP7"
      },
      "source": [
        "**Train Test Split**"
      ]
    },
    {
      "cell_type": "code",
      "metadata": {
        "id": "cr439W7RG_bC",
        "colab": {
          "base_uri": "https://localhost:8080/",
          "height": 34
        },
        "outputId": "33e3f338-03d3-4fdd-a45c-a9f32ea10541"
      },
      "source": [
        "from sklearn.model_selection import train_test_split\n",
        "df_trn, df_val = train_test_split(train, stratify = train['label'], test_size = 0.2)\n",
        "df_trn.shape, df_val.shape"
      ],
      "execution_count": null,
      "outputs": [
        {
          "output_type": "execute_result",
          "data": {
            "text/plain": [
              "((120000, 2), (30000, 2))"
            ]
          },
          "metadata": {
            "tags": []
          },
          "execution_count": 26
        }
      ]
    },
    {
      "cell_type": "code",
      "metadata": {
        "id": "OFdhf2ci22f3",
        "colab": {
          "base_uri": "https://localhost:8080/",
          "height": 419
        },
        "outputId": "c18e4688-4fd0-44aa-bb6c-f96f9958c035"
      },
      "source": [
        "df_val"
      ],
      "execution_count": null,
      "outputs": [
        {
          "output_type": "execute_result",
          "data": {
            "text/html": [
              "<div>\n",
              "<style scoped>\n",
              "    .dataframe tbody tr th:only-of-type {\n",
              "        vertical-align: middle;\n",
              "    }\n",
              "\n",
              "    .dataframe tbody tr th {\n",
              "        vertical-align: top;\n",
              "    }\n",
              "\n",
              "    .dataframe thead th {\n",
              "        text-align: right;\n",
              "    }\n",
              "</style>\n",
              "<table border=\"1\" class=\"dataframe\">\n",
              "  <thead>\n",
              "    <tr style=\"text-align: right;\">\n",
              "      <th></th>\n",
              "      <th>label</th>\n",
              "      <th>text</th>\n",
              "    </tr>\n",
              "  </thead>\n",
              "  <tbody>\n",
              "    <tr>\n",
              "      <th>71504</th>\n",
              "      <td>0</td>\n",
              "      <td>advanced machine blocks drop aluminum machine ...</td>\n",
              "    </tr>\n",
              "    <tr>\n",
              "      <th>52603</th>\n",
              "      <td>1</td>\n",
              "      <td>wordpress custom rest apilook into this as an ...</td>\n",
              "    </tr>\n",
              "    <tr>\n",
              "      <th>46063</th>\n",
              "      <td>0</td>\n",
              "      <td>system status and alarms should be last firstt...</td>\n",
              "    </tr>\n",
              "    <tr>\n",
              "      <th>76396</th>\n",
              "      <td>1</td>\n",
              "      <td>run test suite also in source viewcurrently th...</td>\n",
              "    </tr>\n",
              "    <tr>\n",
              "      <th>25349</th>\n",
              "      <td>2</td>\n",
              "      <td>authenticated doesn t work with v and ldap plu...</td>\n",
              "    </tr>\n",
              "    <tr>\n",
              "      <th>...</th>\n",
              "      <td>...</td>\n",
              "      <td>...</td>\n",
              "    </tr>\n",
              "    <tr>\n",
              "      <th>35076</th>\n",
              "      <td>2</td>\n",
              "      <td>discussion react to stackexchange redis vwe ar...</td>\n",
              "    </tr>\n",
              "    <tr>\n",
              "      <th>121097</th>\n",
              "      <td>0</td>\n",
              "      <td>velocity error while trying to display toast m...</td>\n",
              "    </tr>\n",
              "    <tr>\n",
              "      <th>72929</th>\n",
              "      <td>0</td>\n",
              "      <td>websocket error messagesprobably has something...</td>\n",
              "    </tr>\n",
              "    <tr>\n",
              "      <th>107786</th>\n",
              "      <td>1</td>\n",
              "      <td>more credit card typeshi have you planned to a...</td>\n",
              "    </tr>\n",
              "    <tr>\n",
              "      <th>91854</th>\n",
              "      <td>0</td>\n",
              "      <td>xml pipeline make emit more resilientemit xml ...</td>\n",
              "    </tr>\n",
              "  </tbody>\n",
              "</table>\n",
              "<p>30000 rows × 2 columns</p>\n",
              "</div>"
            ],
            "text/plain": [
              "        label                                               text\n",
              "71504       0  advanced machine blocks drop aluminum machine ...\n",
              "52603       1  wordpress custom rest apilook into this as an ...\n",
              "46063       0  system status and alarms should be last firstt...\n",
              "76396       1  run test suite also in source viewcurrently th...\n",
              "25349       2  authenticated doesn t work with v and ldap plu...\n",
              "...       ...                                                ...\n",
              "35076       2  discussion react to stackexchange redis vwe ar...\n",
              "121097      0  velocity error while trying to display toast m...\n",
              "72929       0  websocket error messagesprobably has something...\n",
              "107786      1  more credit card typeshi have you planned to a...\n",
              "91854       0  xml pipeline make emit more resilientemit xml ...\n",
              "\n",
              "[30000 rows x 2 columns]"
            ]
          },
          "metadata": {
            "tags": []
          },
          "execution_count": 23
        }
      ]
    },
    {
      "cell_type": "code",
      "metadata": {
        "id": "WVEDcY_rHv4w",
        "colab": {
          "base_uri": "https://localhost:8080/",
          "height": 17
        },
        "outputId": "6906532b-682e-4c83-d0b4-94beda08bab6"
      },
      "source": [
        "# Language model data\n",
        "data_lm = TextLMDataBunch.from_df(train_df = df_trn, valid_df = df_val, path = \"\")\n",
        "\n",
        "# Classifier model data\n",
        "data_clas = TextClasDataBunch.from_df(train_df = df_trn, valid_df = df_val, path = \"\", vocab=data_lm.train_ds.vocab, bs=32)"
      ],
      "execution_count": null,
      "outputs": [
        {
          "output_type": "display_data",
          "data": {
            "text/html": [
              ""
            ],
            "text/plain": [
              "<IPython.core.display.HTML object>"
            ]
          },
          "metadata": {
            "tags": []
          }
        },
        {
          "output_type": "display_data",
          "data": {
            "text/html": [
              ""
            ],
            "text/plain": [
              "<IPython.core.display.HTML object>"
            ]
          },
          "metadata": {
            "tags": []
          }
        },
        {
          "output_type": "display_data",
          "data": {
            "text/html": [
              ""
            ],
            "text/plain": [
              "<IPython.core.display.HTML object>"
            ]
          },
          "metadata": {
            "tags": []
          }
        },
        {
          "output_type": "display_data",
          "data": {
            "text/html": [
              ""
            ],
            "text/plain": [
              "<IPython.core.display.HTML object>"
            ]
          },
          "metadata": {
            "tags": []
          }
        }
      ]
    },
    {
      "cell_type": "code",
      "metadata": {
        "id": "V8lcP7iCK0LU",
        "colab": {
          "base_uri": "https://localhost:8080/",
          "height": 476
        },
        "outputId": "bb00ed36-b739-4044-f582-c7e02ffd3e29"
      },
      "source": [
        "from tensorflow.python.client import device_lib\n",
        "device_lib.list_local_devices()"
      ],
      "execution_count": null,
      "outputs": [
        {
          "output_type": "execute_result",
          "data": {
            "text/plain": [
              "[name: \"/device:CPU:0\"\n",
              " device_type: \"CPU\"\n",
              " memory_limit: 268435456\n",
              " locality {\n",
              " }\n",
              " incarnation: 18050654775867239407, name: \"/device:XLA_CPU:0\"\n",
              " device_type: \"XLA_CPU\"\n",
              " memory_limit: 17179869184\n",
              " locality {\n",
              " }\n",
              " incarnation: 4654918836844014346\n",
              " physical_device_desc: \"device: XLA_CPU device\", name: \"/device:XLA_GPU:0\"\n",
              " device_type: \"XLA_GPU\"\n",
              " memory_limit: 17179869184\n",
              " locality {\n",
              " }\n",
              " incarnation: 1660471577153484465\n",
              " physical_device_desc: \"device: XLA_GPU device\", name: \"/device:GPU:0\"\n",
              " device_type: \"GPU\"\n",
              " memory_limit: 13860248000\n",
              " locality {\n",
              "   bus_id: 1\n",
              "   links {\n",
              "   }\n",
              " }\n",
              " incarnation: 3640104410533257134\n",
              " physical_device_desc: \"device: 0, name: Tesla T4, pci bus id: 0000:00:04.0, compute capability: 7.5\"]"
            ]
          },
          "metadata": {
            "tags": []
          },
          "execution_count": 25
        }
      ]
    },
    {
      "cell_type": "code",
      "metadata": {
        "id": "q7c2Xn6sHwO1",
        "colab": {
          "base_uri": "https://localhost:8080/",
          "height": 564
        },
        "outputId": "fe4e1c46-329b-40ac-a83c-aaf3047107e3"
      },
      "source": [
        "data_clas.show_batch()"
      ],
      "execution_count": null,
      "outputs": [
        {
          "output_type": "stream",
          "text": [
            "/usr/local/lib/python3.6/dist-packages/fastai/text/data.py:339: UserWarning: This overload of nonzero is deprecated:\n",
            "\tnonzero()\n",
            "Consider using one of the following signatures instead:\n",
            "\tnonzero(*, bool as_tuple) (Triggered internally at  /pytorch/torch/csrc/utils/python_arg_parser.cpp:766.)\n",
            "  idx_min = (t != self.pad_idx).nonzero().min()\n"
          ],
          "name": "stderr"
        },
        {
          "output_type": "display_data",
          "data": {
            "text/html": [
              "<table border=\"1\" class=\"dataframe\">\n",
              "  <thead>\n",
              "    <tr style=\"text-align: right;\">\n",
              "      <th>text</th>\n",
              "      <th>target</th>\n",
              "    </tr>\n",
              "  </thead>\n",
              "  <tbody>\n",
              "    <tr>\n",
              "      <td>xxbos test xxunk feedback xxunk dt url dt dd code dt browser dt dd code mozilla macintosh intel mac os x applewebkit khtml like gecko chrome safari code dd dt user dt dd code d d e c bd cde code dd dl hr h note h p test xxunk feedback issue p h screenshot h inline image may get filtered out by github img src data image png base</td>\n",
              "      <td>0</td>\n",
              "    </tr>\n",
              "    <tr>\n",
              "      <td>xxbos integration tests throw noclassdeffounderror out of the xxunk a simple fix but out of the box integration tests throw a noclassdeffounderror library java javavirtualmachines jdk jdk contents home bin java ea xxunk sdk users pquitslund src git flutter xxunk a applications tools intellij idea ce app contents lib boot jar didea load plugins i d io flutter didea home path users pquitslund library caches ideaic plugins sandbox test didea</td>\n",
              "      <td>0</td>\n",
              "    </tr>\n",
              "    <tr>\n",
              "      <td>xxbos lambda deployment with xxunk tried to deploy sharp on aws lambda with no success so far i had to manually compile mozjpeg libvips before so we could optimize our images locally running an amazon linux virtual machine everything is running smoothly however when we run our test events we get the following error errormessage var lang lib libstdc so version glibcxx not found required by var task node modules</td>\n",
              "      <td>2</td>\n",
              "    </tr>\n",
              "    <tr>\n",
              "      <td>xxbos actionview template error wrong number of arguments given xxunk details in rollbar argumenterror wrong number of arguments given expected file usr local rvm gems ruby ebwiki gems activemodel lib active model errors rb line in full message file home ubuntu workspace app views agencies form html erb line in block in app views agencies form html erb file usr local rvm gems ruby ebwiki gems actionview lib action view</td>\n",
              "      <td>0</td>\n",
              "    </tr>\n",
              "    <tr>\n",
              "      <td>xxbos android studio is not xxunk native build xxunk command failed error while executing users bezigon library android sdk cmake bin cmake with arguments h users bezigon androidstudioprojects hello libs gen libs src main cpp b users bezigon androidstudioprojects hello libs gen libs externalnativebuild cmake debug armeabi xxunk gradle ninja dandroid abi armeabi dandroid ndk users bezigon library android sdk ndk bundle dcmake library output directory users bezigon androidstudioprojects hello</td>\n",
              "      <td>2</td>\n",
              "    </tr>\n",
              "  </tbody>\n",
              "</table>"
            ],
            "text/plain": [
              "<IPython.core.display.HTML object>"
            ]
          },
          "metadata": {
            "tags": []
          }
        }
      ]
    },
    {
      "cell_type": "code",
      "metadata": {
        "id": "TsQUqbu6Hwfa",
        "colab": {
          "base_uri": "https://localhost:8080/",
          "height": 34
        },
        "outputId": "b48e72fe-b32a-45b4-9b76-dedbef0c33ef"
      },
      "source": [
        "learn = language_model_learner(data_lm, AWD_LSTM, drop_mult=0.3)"
      ],
      "execution_count": null,
      "outputs": [
        {
          "output_type": "stream",
          "text": [
            "Downloading https://s3.amazonaws.com/fast-ai-modelzoo/wt103-fwd.tgz\n"
          ],
          "name": "stdout"
        },
        {
          "output_type": "display_data",
          "data": {
            "text/html": [
              ""
            ],
            "text/plain": [
              "<IPython.core.display.HTML object>"
            ]
          },
          "metadata": {
            "tags": []
          }
        }
      ]
    },
    {
      "cell_type": "code",
      "metadata": {
        "id": "8lq9IvfAHwwK",
        "colab": {
          "base_uri": "https://localhost:8080/",
          "height": 408
        },
        "outputId": "625f2806-463f-43f1-935f-f27f4d94d807"
      },
      "source": [
        "learn.lr_find()\n",
        "learn.recorder.plot(suggestion=True)\n",
        "min_grad_lr = learn.recorder.min_grad_lr"
      ],
      "execution_count": null,
      "outputs": [
        {
          "output_type": "display_data",
          "data": {
            "text/html": [
              "\n",
              "    <div>\n",
              "        <style>\n",
              "            /* Turns off some styling */\n",
              "            progress {\n",
              "                /* gets rid of default border in Firefox and Opera. */\n",
              "                border: none;\n",
              "                /* Needs to be in here for Safari polyfill so background images work as expected. */\n",
              "                background-size: auto;\n",
              "            }\n",
              "            .progress-bar-interrupted, .progress-bar-interrupted::-webkit-progress-bar {\n",
              "                background: #F44336;\n",
              "            }\n",
              "        </style>\n",
              "      <progress value='0' class='' max='1' style='width:300px; height:20px; vertical-align: middle;'></progress>\n",
              "      0.00% [0/1 00:00<00:00]\n",
              "    </div>\n",
              "    \n",
              "<table border=\"1\" class=\"dataframe\">\n",
              "  <thead>\n",
              "    <tr style=\"text-align: left;\">\n",
              "      <th>epoch</th>\n",
              "      <th>train_loss</th>\n",
              "      <th>valid_loss</th>\n",
              "      <th>accuracy</th>\n",
              "      <th>time</th>\n",
              "    </tr>\n",
              "  </thead>\n",
              "  <tbody>\n",
              "  </tbody>\n",
              "</table><p>\n",
              "\n",
              "    <div>\n",
              "        <style>\n",
              "            /* Turns off some styling */\n",
              "            progress {\n",
              "                /* gets rid of default border in Firefox and Opera. */\n",
              "                border: none;\n",
              "                /* Needs to be in here for Safari polyfill so background images work as expected. */\n",
              "                background-size: auto;\n",
              "            }\n",
              "            .progress-bar-interrupted, .progress-bar-interrupted::-webkit-progress-bar {\n",
              "                background: #F44336;\n",
              "            }\n",
              "        </style>\n",
              "      <progress value='99' class='' max='2164' style='width:300px; height:20px; vertical-align: middle;'></progress>\n",
              "      4.57% [99/2164 00:33<11:43 13.4982]\n",
              "    </div>\n",
              "    "
            ],
            "text/plain": [
              "<IPython.core.display.HTML object>"
            ]
          },
          "metadata": {
            "tags": []
          }
        },
        {
          "output_type": "stream",
          "text": [
            "LR Finder is complete, type {learner_name}.recorder.plot() to see the graph.\n",
            "Min numerical gradient: 4.79E-02\n",
            "Min loss divided by 10: 2.51E-02\n"
          ],
          "name": "stdout"
        },
        {
          "output_type": "display_data",
          "data": {
            "image/png": "[encoded data removed]",
            "text/plain": [
              "<Figure size 432x288 with 1 Axes>"
            ]
          },
          "metadata": {
            "tags": [],
            "needs_background": "light"
          }
        }
      ]
    },
    {
      "cell_type": "code",
      "metadata": {
        "id": "CVjPM0k_HxCT",
        "colab": {
          "base_uri": "https://localhost:8080/",
          "height": 111
        },
        "outputId": "d5fbd18e-73f1-4273-c54e-7f9c5070b944"
      },
      "source": [
        "learn.fit_one_cycle(2, min_grad_lr)"
      ],
      "execution_count": null,
      "outputs": [
        {
          "output_type": "display_data",
          "data": {
            "text/html": [
              "<table border=\"1\" class=\"dataframe\">\n",
              "  <thead>\n",
              "    <tr style=\"text-align: left;\">\n",
              "      <th>epoch</th>\n",
              "      <th>train_loss</th>\n",
              "      <th>valid_loss</th>\n",
              "      <th>accuracy</th>\n",
              "      <th>time</th>\n",
              "    </tr>\n",
              "  </thead>\n",
              "  <tbody>\n",
              "    <tr>\n",
              "      <td>0</td>\n",
              "      <td>6.215612</td>\n",
              "      <td>5.871806</td>\n",
              "      <td>0.168328</td>\n",
              "      <td>15:05</td>\n",
              "    </tr>\n",
              "    <tr>\n",
              "      <td>1</td>\n",
              "      <td>5.715634</td>\n",
              "      <td>5.350116</td>\n",
              "      <td>0.198695</td>\n",
              "      <td>15:38</td>\n",
              "    </tr>\n",
              "  </tbody>\n",
              "</table>"
            ],
            "text/plain": [
              "<IPython.core.display.HTML object>"
            ]
          },
          "metadata": {
            "tags": []
          }
        }
      ]
    },
    {
      "cell_type": "code",
      "metadata": {
        "id": "OFUP15uySxnI",
        "colab": {
          "base_uri": "https://localhost:8080/",
          "height": 35
        },
        "outputId": "1a4f37c0-853e-4933-cd59-4d3ca7b7440a"
      },
      "source": [
        "learn.predict(\"this is not working\", n_words=10)"
      ],
      "execution_count": null,
      "outputs": [
        {
          "output_type": "execute_result",
          "data": {
            "application/vnd.google.colaboratory.intrinsic+json": {
              "type": "string"
            },
            "text/plain": [
              "'this is not working on tgithub com coreclr can add by magento is possible'"
            ]
          },
          "metadata": {
            "tags": []
          },
          "execution_count": 31
        }
      ]
    },
    {
      "cell_type": "code",
      "metadata": {
        "id": "K96oMXPHSyJT"
      },
      "source": [
        "learn.save_encoder('ft_enc')"
      ],
      "execution_count": null,
      "outputs": []
    },
    {
      "cell_type": "code",
      "metadata": {
        "id": "k8tOfA3fSyZj",
        "colab": {
          "base_uri": "https://localhost:8080/",
          "height": 1000
        },
        "outputId": "552ee998-c750-4dcf-b771-4a92891a6de9"
      },
      "source": [
        "learn = text_classifier_learner(data_clas, AWD_LSTM, drop_mult=0.5)\n",
        "learn.load_encoder('ft_enc')"
      ],
      "execution_count": null,
      "outputs": [
        {
          "output_type": "execute_result",
          "data": {
            "text/plain": [
              "RNNLearner(data=TextClasDataBunch;\n",
              "\n",
              "Train: LabelList (120000 items)\n",
              "x: TextList\n",
              "xxbos dotnet should list help as a subcommand for each xxunk is this net command line xxunk dotnet common options command arguments arguments command the command to execute arguments arguments to pass to the xxunk options passed before the command v verbose enable verbose xxunk commands compile compiles a net project publish publishes a net project for deployment run compiles and immediately executes a net xxunk common command help is a valid command that lists options for each common command but there s nothing to tell the user that,xxbos asyncfunction constructor in node xxunk you for reporting an issue this issue tracker is for bugs and issues found within node js core if you require more general support please file an issue on our helprepo please fill in as much of the template below as you re able version output of node v platform output of uname a unix or version and or bit windows subsystem if known please specify affected core module nameif possible please provide code that demonstrates the problem keeping it assimple and free of external dependencies as you are able version node bit platform windows subsystem enter your issue details below this comment jsfunction resolveafter seconds x return new promise resolve settimeout resolve x async function a b c return await resolveafter seconds b await resolveafter seconds c a then v console log v prints after seconds works in node bit with harmony flag but if we change async function definition to jslet asyncfunction object getprototypeof async function constructor let a new asyncfunction b c return await resolveafter seconds c await resolveafter seconds b console log a tostring it will not why it gives the message pre unhandledpromiserejectionwarning unhandled promise rejection rejection i d referenceerror resolveafter seconds is not defined pre console log a tostring gives identical code as in the function a above asyncfunction constructor itself doesn t work too r,xxbos container settings are required when editing start task but should be xxunk from editing start task without container config when pool has container setup,xxbos v layer plain still adds background xxunk the layer documentation we can see that plain prop remove any style from the layer container although we are still adding background when specifying plain,xxbos extend scrapy to candidates website to gather more xxunk candidates information collected from scrapy on the xxunk site are still missing twitter and fb information create a scrapy for going to the candidates site and collecting twitter fb and youtube links then create an update script to update candidates db entires with the social media links\n",
              "y: CategoryList\n",
              "1,2,0,0,1\n",
              "Path: .;\n",
              "\n",
              "Valid: LabelList (30000 items)\n",
              "x: TextList\n",
              "xxbos advanced machine blocks drop aluminum machine hulls when broken with a xxunk machine hulls aren t craftable and aren t currently used in any recipes,xxbos wordpress custom rest xxunk into this as an option,xxbos system status and alarms should be last xxunk of issue please put an x e g x in all the boxes that apply x bug new feature improvement description please provide a succinct description newly created job should be xxunk in system status grid image r,xxbos run test suite also in source viewcurrently the test suite is just run while editing an article within the formatted view though the results should also be displayed while you re within the source view to allow the tests to work the same once issue got implemented the source needs to be turned into html sebastian,xxbos authenticated doesn t work with v and ldap plugini am trying to set access authenticated to the scope xxunk but i keep getting authenticated then the next request is anonymous does anybody know about such a bug i am using xxunk v this is my configuration xxunk verdaccio xxunk ldap type ldap xxunk cn client options url xxunk cn readonly dc example dc com adminpassword example xxunk dc example dc com xxunk uid username memberof cn npm users ou groups dc example dc com cache false xxunk memberof xxunk xxunk false max users htpasswd file htpasswd maximum amount of users allowed to register defaults to inf you can set this to to disable registration currently used only for deployment accounts max users a list of other known repositories we can talk xxunk npmjs url packages xxunk scoped packages access authenticated publish npm users proxy npmjs scoped packages access all publish authenticated if package is not available locally proxy requests to npmjs registry proxy npmjs allow all users including non authenticated users to read and publish all packages you can specify usernames xxunk depending on your auth plugin and three keywords all anonymous authenticated access all allow all known users to publish packages anyone can register by default remember publish authenticated if package is not available locally proxy requests to npmjs registry proxy npmjs log xxunk type stdout format pretty level http type file path verdaccio log level info web enable true title redacted i am able to publish a scoped package in xxunk but no user can download it after bash http user xxunk via req get xxunk xxunk bytes http user undefined via req get xxunk xxunk deleteme tgz error unregistered users are not allowed to access package xxunk deleteme r\n",
              "y: CategoryList\n",
              "0,1,0,1,2\n",
              "Path: .;\n",
              "\n",
              "Test: None, model=SequentialRNN(\n",
              "  (0): MultiBatchEncoder(\n",
              "    (module): AWD_LSTM(\n",
              "      (encoder): Embedding(60000, 400, padding_idx=1)\n",
              "      (encoder_dp): EmbeddingDropout(\n",
              "        (emb): Embedding(60000, 400, padding_idx=1)\n",
              "      )\n",
              "      (rnns): ModuleList(\n",
              "        (0): WeightDropout(\n",
              "          (module): LSTM(400, 1152, batch_first=True)\n",
              "        )\n",
              "        (1): WeightDropout(\n",
              "          (module): LSTM(1152, 1152, batch_first=True)\n",
              "        )\n",
              "        (2): WeightDropout(\n",
              "          (module): LSTM(1152, 400, batch_first=True)\n",
              "        )\n",
              "      )\n",
              "      (input_dp): RNNDropout()\n",
              "      (hidden_dps): ModuleList(\n",
              "        (0): RNNDropout()\n",
              "        (1): RNNDropout()\n",
              "        (2): RNNDropout()\n",
              "      )\n",
              "    )\n",
              "  )\n",
              "  (1): PoolingLinearClassifier(\n",
              "    (layers): Sequential(\n",
              "      (0): BatchNorm1d(1200, eps=1e-05, momentum=0.1, affine=True, track_running_stats=True)\n",
              "      (1): Dropout(p=0.2, inplace=False)\n",
              "      (2): Linear(in_features=1200, out_features=50, bias=True)\n",
              "      (3): ReLU(inplace=True)\n",
              "      (4): BatchNorm1d(50, eps=1e-05, momentum=0.1, affine=True, track_running_stats=True)\n",
              "      (5): Dropout(p=0.1, inplace=False)\n",
              "      (6): Linear(in_features=50, out_features=3, bias=True)\n",
              "    )\n",
              "  )\n",
              "), opt_func=functools.partial(<class 'torch.optim.adam.Adam'>, betas=(0.9, 0.99)), loss_func=FlattenedLoss of CrossEntropyLoss(), metrics=[<function accuracy at 0x7fa90aad1620>], true_wd=True, bn_wd=True, wd=0.01, train_bn=True, path=PosixPath('.'), model_dir='models', callback_fns=[functools.partial(<class 'fastai.basic_train.Recorder'>, add_time=True, silent=False)], callbacks=[RNNTrainer\n",
              "learn: RNNLearner(data=TextClasDataBunch;\n",
              "\n",
              "Train: LabelList (120000 items)\n",
              "x: TextList\n",
              "xxbos dotnet should list help as a subcommand for each xxunk is this net command line xxunk dotnet common options command arguments arguments command the command to execute arguments arguments to pass to the xxunk options passed before the command v verbose enable verbose xxunk commands compile compiles a net project publish publishes a net project for deployment run compiles and immediately executes a net xxunk common command help is a valid command that lists options for each common command but there s nothing to tell the user that,xxbos asyncfunction constructor in node xxunk you for reporting an issue this issue tracker is for bugs and issues found within node js core if you require more general support please file an issue on our helprepo please fill in as much of the template below as you re able version output of node v platform output of uname a unix or version and or bit windows subsystem if known please specify affected core module nameif possible please provide code that demonstrates the problem keeping it assimple and free of external dependencies as you are able version node bit platform windows subsystem enter your issue details below this comment jsfunction resolveafter seconds x return new promise resolve settimeout resolve x async function a b c return await resolveafter seconds b await resolveafter seconds c a then v console log v prints after seconds works in node bit with harmony flag but if we change async function definition to jslet asyncfunction object getprototypeof async function constructor let a new asyncfunction b c return await resolveafter seconds c await resolveafter seconds b console log a tostring it will not why it gives the message pre unhandledpromiserejectionwarning unhandled promise rejection rejection i d referenceerror resolveafter seconds is not defined pre console log a tostring gives identical code as in the function a above asyncfunction constructor itself doesn t work too r,xxbos container settings are required when editing start task but should be xxunk from editing start task without container config when pool has container setup,xxbos v layer plain still adds background xxunk the layer documentation we can see that plain prop remove any style from the layer container although we are still adding background when specifying plain,xxbos extend scrapy to candidates website to gather more xxunk candidates information collected from scrapy on the xxunk site are still missing twitter and fb information create a scrapy for going to the candidates site and collecting twitter fb and youtube links then create an update script to update candidates db entires with the social media links\n",
              "y: CategoryList\n",
              "1,2,0,0,1\n",
              "Path: .;\n",
              "\n",
              "Valid: LabelList (30000 items)\n",
              "x: TextList\n",
              "xxbos advanced machine blocks drop aluminum machine hulls when broken with a xxunk machine hulls aren t craftable and aren t currently used in any recipes,xxbos wordpress custom rest xxunk into this as an option,xxbos system status and alarms should be last xxunk of issue please put an x e g x in all the boxes that apply x bug new feature improvement description please provide a succinct description newly created job should be xxunk in system status grid image r,xxbos run test suite also in source viewcurrently the test suite is just run while editing an article within the formatted view though the results should also be displayed while you re within the source view to allow the tests to work the same once issue got implemented the source needs to be turned into html sebastian,xxbos authenticated doesn t work with v and ldap plugini am trying to set access authenticated to the scope xxunk but i keep getting authenticated then the next request is anonymous does anybody know about such a bug i am using xxunk v this is my configuration xxunk verdaccio xxunk ldap type ldap xxunk cn client options url xxunk cn readonly dc example dc com adminpassword example xxunk dc example dc com xxunk uid username memberof cn npm users ou groups dc example dc com cache false xxunk memberof xxunk xxunk false max users htpasswd file htpasswd maximum amount of users allowed to register defaults to inf you can set this to to disable registration currently used only for deployment accounts max users a list of other known repositories we can talk xxunk npmjs url packages xxunk scoped packages access authenticated publish npm users proxy npmjs scoped packages access all publish authenticated if package is not available locally proxy requests to npmjs registry proxy npmjs allow all users including non authenticated users to read and publish all packages you can specify usernames xxunk depending on your auth plugin and three keywords all anonymous authenticated access all allow all known users to publish packages anyone can register by default remember publish authenticated if package is not available locally proxy requests to npmjs registry proxy npmjs log xxunk type stdout format pretty level http type file path verdaccio log level info web enable true title redacted i am able to publish a scoped package in xxunk but no user can download it after bash http user xxunk via req get xxunk xxunk bytes http user undefined via req get xxunk xxunk deleteme tgz error unregistered users are not allowed to access package xxunk deleteme r\n",
              "y: CategoryList\n",
              "0,1,0,1,2\n",
              "Path: .;\n",
              "\n",
              "Test: None, model=SequentialRNN(\n",
              "  (0): MultiBatchEncoder(\n",
              "    (module): AWD_LSTM(\n",
              "      (encoder): Embedding(60000, 400, padding_idx=1)\n",
              "      (encoder_dp): EmbeddingDropout(\n",
              "        (emb): Embedding(60000, 400, padding_idx=1)\n",
              "      )\n",
              "      (rnns): ModuleList(\n",
              "        (0): WeightDropout(\n",
              "          (module): LSTM(400, 1152, batch_first=True)\n",
              "        )\n",
              "        (1): WeightDropout(\n",
              "          (module): LSTM(1152, 1152, batch_first=True)\n",
              "        )\n",
              "        (2): WeightDropout(\n",
              "          (module): LSTM(1152, 400, batch_first=True)\n",
              "        )\n",
              "      )\n",
              "      (input_dp): RNNDropout()\n",
              "      (hidden_dps): ModuleList(\n",
              "        (0): RNNDropout()\n",
              "        (1): RNNDropout()\n",
              "        (2): RNNDropout()\n",
              "      )\n",
              "    )\n",
              "  )\n",
              "  (1): PoolingLinearClassifier(\n",
              "    (layers): Sequential(\n",
              "      (0): BatchNorm1d(1200, eps=1e-05, momentum=0.1, affine=True, track_running_stats=True)\n",
              "      (1): Dropout(p=0.2, inplace=False)\n",
              "      (2): Linear(in_features=1200, out_features=50, bias=True)\n",
              "      (3): ReLU(inplace=True)\n",
              "      (4): BatchNorm1d(50, eps=1e-05, momentum=0.1, affine=True, track_running_stats=True)\n",
              "      (5): Dropout(p=0.1, inplace=False)\n",
              "      (6): Linear(in_features=50, out_features=3, bias=True)\n",
              "    )\n",
              "  )\n",
              "), opt_func=functools.partial(<class 'torch.optim.adam.Adam'>, betas=(0.9, 0.99)), loss_func=FlattenedLoss of CrossEntropyLoss(), metrics=[<function accuracy at 0x7fa90aad1620>], true_wd=True, bn_wd=True, wd=0.01, train_bn=True, path=PosixPath('.'), model_dir='models', callback_fns=[functools.partial(<class 'fastai.basic_train.Recorder'>, add_time=True, silent=False)], callbacks=[...], layer_groups=[Sequential(\n",
              "  (0): Embedding(60000, 400, padding_idx=1)\n",
              "  (1): EmbeddingDropout(\n",
              "    (emb): Embedding(60000, 400, padding_idx=1)\n",
              "  )\n",
              "), Sequential(\n",
              "  (0): WeightDropout(\n",
              "    (module): LSTM(400, 1152, batch_first=True)\n",
              "  )\n",
              "  (1): RNNDropout()\n",
              "), Sequential(\n",
              "  (0): WeightDropout(\n",
              "    (module): LSTM(1152, 1152, batch_first=True)\n",
              "  )\n",
              "  (1): RNNDropout()\n",
              "), Sequential(\n",
              "  (0): WeightDropout(\n",
              "    (module): LSTM(1152, 400, batch_first=True)\n",
              "  )\n",
              "  (1): RNNDropout()\n",
              "), Sequential(\n",
              "  (0): PoolingLinearClassifier(\n",
              "    (layers): Sequential(\n",
              "      (0): BatchNorm1d(1200, eps=1e-05, momentum=0.1, affine=True, track_running_stats=True)\n",
              "      (1): Dropout(p=0.2, inplace=False)\n",
              "      (2): Linear(in_features=1200, out_features=50, bias=True)\n",
              "      (3): ReLU(inplace=True)\n",
              "      (4): BatchNorm1d(50, eps=1e-05, momentum=0.1, affine=True, track_running_stats=True)\n",
              "      (5): Dropout(p=0.1, inplace=False)\n",
              "      (6): Linear(in_features=50, out_features=3, bias=True)\n",
              "    )\n",
              "  )\n",
              ")], add_time=True, silent=False)\n",
              "alpha: 2.0\n",
              "beta: 1.0], layer_groups=[Sequential(\n",
              "  (0): Embedding(60000, 400, padding_idx=1)\n",
              "  (1): EmbeddingDropout(\n",
              "    (emb): Embedding(60000, 400, padding_idx=1)\n",
              "  )\n",
              "), Sequential(\n",
              "  (0): WeightDropout(\n",
              "    (module): LSTM(400, 1152, batch_first=True)\n",
              "  )\n",
              "  (1): RNNDropout()\n",
              "), Sequential(\n",
              "  (0): WeightDropout(\n",
              "    (module): LSTM(1152, 1152, batch_first=True)\n",
              "  )\n",
              "  (1): RNNDropout()\n",
              "), Sequential(\n",
              "  (0): WeightDropout(\n",
              "    (module): LSTM(1152, 400, batch_first=True)\n",
              "  )\n",
              "  (1): RNNDropout()\n",
              "), Sequential(\n",
              "  (0): PoolingLinearClassifier(\n",
              "    (layers): Sequential(\n",
              "      (0): BatchNorm1d(1200, eps=1e-05, momentum=0.1, affine=True, track_running_stats=True)\n",
              "      (1): Dropout(p=0.2, inplace=False)\n",
              "      (2): Linear(in_features=1200, out_features=50, bias=True)\n",
              "      (3): ReLU(inplace=True)\n",
              "      (4): BatchNorm1d(50, eps=1e-05, momentum=0.1, affine=True, track_running_stats=True)\n",
              "      (5): Dropout(p=0.1, inplace=False)\n",
              "      (6): Linear(in_features=50, out_features=3, bias=True)\n",
              "    )\n",
              "  )\n",
              ")], add_time=True, silent=False)"
            ]
          },
          "metadata": {
            "tags": []
          },
          "execution_count": 33
        }
      ]
    },
    {
      "cell_type": "code",
      "metadata": {
        "id": "kL_wI6RoSyqi",
        "colab": {
          "base_uri": "https://localhost:8080/",
          "height": 408
        },
        "outputId": "cb8c6cfb-7ef7-4e1a-8573-c39c0ada24f3"
      },
      "source": [
        "learn.lr_find()\n",
        "learn.recorder.plot(suggestion=True)\n",
        "min_grad_lr = learn.recorder.min_grad_lr"
      ],
      "execution_count": null,
      "outputs": [
        {
          "output_type": "display_data",
          "data": {
            "text/html": [
              "\n",
              "    <div>\n",
              "        <style>\n",
              "            /* Turns off some styling */\n",
              "            progress {\n",
              "                /* gets rid of default border in Firefox and Opera. */\n",
              "                border: none;\n",
              "                /* Needs to be in here for Safari polyfill so background images work as expected. */\n",
              "                background-size: auto;\n",
              "            }\n",
              "            .progress-bar-interrupted, .progress-bar-interrupted::-webkit-progress-bar {\n",
              "                background: #F44336;\n",
              "            }\n",
              "        </style>\n",
              "      <progress value='0' class='' max='1' style='width:300px; height:20px; vertical-align: middle;'></progress>\n",
              "      0.00% [0/1 00:00<00:00]\n",
              "    </div>\n",
              "    \n",
              "<table border=\"1\" class=\"dataframe\">\n",
              "  <thead>\n",
              "    <tr style=\"text-align: left;\">\n",
              "      <th>epoch</th>\n",
              "      <th>train_loss</th>\n",
              "      <th>valid_loss</th>\n",
              "      <th>accuracy</th>\n",
              "      <th>time</th>\n",
              "    </tr>\n",
              "  </thead>\n",
              "  <tbody>\n",
              "  </tbody>\n",
              "</table><p>\n",
              "\n",
              "    <div>\n",
              "        <style>\n",
              "            /* Turns off some styling */\n",
              "            progress {\n",
              "                /* gets rid of default border in Firefox and Opera. */\n",
              "                border: none;\n",
              "                /* Needs to be in here for Safari polyfill so background images work as expected. */\n",
              "                background-size: auto;\n",
              "            }\n",
              "            .progress-bar-interrupted, .progress-bar-interrupted::-webkit-progress-bar {\n",
              "                background: #F44336;\n",
              "            }\n",
              "        </style>\n",
              "      <progress value='95' class='' max='3750' style='width:300px; height:20px; vertical-align: middle;'></progress>\n",
              "      2.53% [95/3750 00:24<15:28 2.4720]\n",
              "    </div>\n",
              "    "
            ],
            "text/plain": [
              "<IPython.core.display.HTML object>"
            ]
          },
          "metadata": {
            "tags": []
          }
        },
        {
          "output_type": "stream",
          "text": [
            "LR Finder is complete, type {learner_name}.recorder.plot() to see the graph.\n",
            "Min numerical gradient: 2.75E-02\n",
            "Min loss divided by 10: 1.45E-02\n"
          ],
          "name": "stdout"
        },
        {
          "output_type": "display_data",
          "data": {
            "image/png": "[encoded data removed]",
            "text/plain": [
              "<Figure size 432x288 with 1 Axes>"
            ]
          },
          "metadata": {
            "tags": [],
            "needs_background": "light"
          }
        }
      ]
    },
    {
      "cell_type": "code",
      "metadata": {
        "id": "rXqWsYykTxWG",
        "colab": {
          "base_uri": "https://localhost:8080/",
          "height": 111
        },
        "outputId": "1172f530-a168-491a-e7ad-f8981fa8f8f3"
      },
      "source": [
        "learn.fit_one_cycle(2, min_grad_lr)"
      ],
      "execution_count": null,
      "outputs": [
        {
          "output_type": "display_data",
          "data": {
            "text/html": [
              "<table border=\"1\" class=\"dataframe\">\n",
              "  <thead>\n",
              "    <tr style=\"text-align: left;\">\n",
              "      <th>epoch</th>\n",
              "      <th>train_loss</th>\n",
              "      <th>valid_loss</th>\n",
              "      <th>accuracy</th>\n",
              "      <th>time</th>\n",
              "    </tr>\n",
              "  </thead>\n",
              "  <tbody>\n",
              "    <tr>\n",
              "      <td>0</td>\n",
              "      <td>0.795940</td>\n",
              "      <td>0.695558</td>\n",
              "      <td>0.719300</td>\n",
              "      <td>04:56</td>\n",
              "    </tr>\n",
              "    <tr>\n",
              "      <td>1</td>\n",
              "      <td>0.774981</td>\n",
              "      <td>0.666677</td>\n",
              "      <td>0.730267</td>\n",
              "      <td>04:55</td>\n",
              "    </tr>\n",
              "  </tbody>\n",
              "</table>"
            ],
            "text/plain": [
              "<IPython.core.display.HTML object>"
            ]
          },
          "metadata": {
            "tags": []
          }
        }
      ]
    },
    {
      "cell_type": "code",
      "metadata": {
        "id": "iARSg-qeTxmS",
        "colab": {
          "base_uri": "https://localhost:8080/",
          "height": 279
        },
        "outputId": "3c142ea3-51e8-47d6-b79f-0a971aa2fe5e"
      },
      "source": [
        "learn.recorder.plot_losses()"
      ],
      "execution_count": null,
      "outputs": [
        {
          "output_type": "display_data",
          "data": {
            "image/png": "[encoded data removed]",
            "text/plain": [
              "<Figure size 432x288 with 1 Axes>"
            ]
          },
          "metadata": {
            "tags": [],
            "needs_background": "light"
          }
        }
      ]
    },
    {
      "cell_type": "code",
      "metadata": {
        "id": "GyTtrzPJTx2q",
        "colab": {
          "base_uri": "https://localhost:8080/",
          "height": 173
        },
        "outputId": "7a4c8b85-2f07-4467-c125-2796bfcf13f9"
      },
      "source": [
        "learn.freeze_to(-2)\n",
        "learn.fit_one_cycle(4, slice(5e-3, 2e-3), moms=(0.8,0.7))"
      ],
      "execution_count": null,
      "outputs": [
        {
          "output_type": "display_data",
          "data": {
            "text/html": [
              "<table border=\"1\" class=\"dataframe\">\n",
              "  <thead>\n",
              "    <tr style=\"text-align: left;\">\n",
              "      <th>epoch</th>\n",
              "      <th>train_loss</th>\n",
              "      <th>valid_loss</th>\n",
              "      <th>accuracy</th>\n",
              "      <th>time</th>\n",
              "    </tr>\n",
              "  </thead>\n",
              "  <tbody>\n",
              "    <tr>\n",
              "      <td>0</td>\n",
              "      <td>0.682228</td>\n",
              "      <td>0.582997</td>\n",
              "      <td>0.775100</td>\n",
              "      <td>05:40</td>\n",
              "    </tr>\n",
              "    <tr>\n",
              "      <td>1</td>\n",
              "      <td>0.595968</td>\n",
              "      <td>0.562287</td>\n",
              "      <td>0.796400</td>\n",
              "      <td>05:44</td>\n",
              "    </tr>\n",
              "    <tr>\n",
              "      <td>2</td>\n",
              "      <td>0.599847</td>\n",
              "      <td>0.528872</td>\n",
              "      <td>0.800933</td>\n",
              "      <td>05:42</td>\n",
              "    </tr>\n",
              "    <tr>\n",
              "      <td>3</td>\n",
              "      <td>0.581169</td>\n",
              "      <td>0.531586</td>\n",
              "      <td>0.802267</td>\n",
              "      <td>05:44</td>\n",
              "    </tr>\n",
              "  </tbody>\n",
              "</table>"
            ],
            "text/plain": [
              "<IPython.core.display.HTML object>"
            ]
          },
          "metadata": {
            "tags": []
          }
        }
      ]
    },
    {
      "cell_type": "code",
      "metadata": {
        "id": "o8akFrkeTyJ6",
        "colab": {
          "base_uri": "https://localhost:8080/",
          "height": 279
        },
        "outputId": "ca02176e-5194-466a-d4a5-59599442d081"
      },
      "source": [
        "learn.recorder.plot_losses()"
      ],
      "execution_count": null,
      "outputs": [
        {
          "output_type": "display_data",
          "data": {
            "image/png": "[encoded data removed]",
            "text/plain": [
              "<Figure size 432x288 with 1 Axes>"
            ]
          },
          "metadata": {
            "tags": [],
            "needs_background": "light"
          }
        }
      ]
    },
    {
      "cell_type": "code",
      "metadata": {
        "id": "uBgWjQp1TyY9",
        "colab": {
          "base_uri": "https://localhost:8080/",
          "height": 173
        },
        "outputId": "5efd1a12-cf85-48d2-82b6-d805b3a01d29"
      },
      "source": [
        "learn.unfreeze()\n",
        "learn.fit_one_cycle(4, slice(2e-3/100, 2e-3), moms=(0.8,0.7))"
      ],
      "execution_count": null,
      "outputs": [
        {
          "output_type": "display_data",
          "data": {
            "text/html": [
              "<table border=\"1\" class=\"dataframe\">\n",
              "  <thead>\n",
              "    <tr style=\"text-align: left;\">\n",
              "      <th>epoch</th>\n",
              "      <th>train_loss</th>\n",
              "      <th>valid_loss</th>\n",
              "      <th>accuracy</th>\n",
              "      <th>time</th>\n",
              "    </tr>\n",
              "  </thead>\n",
              "  <tbody>\n",
              "    <tr>\n",
              "      <td>0</td>\n",
              "      <td>0.550736</td>\n",
              "      <td>0.513651</td>\n",
              "      <td>0.807167</td>\n",
              "      <td>11:37</td>\n",
              "    </tr>\n",
              "    <tr>\n",
              "      <td>1</td>\n",
              "      <td>0.574442</td>\n",
              "      <td>0.559364</td>\n",
              "      <td>0.810467</td>\n",
              "      <td>11:37</td>\n",
              "    </tr>\n",
              "    <tr>\n",
              "      <td>2</td>\n",
              "      <td>0.505549</td>\n",
              "      <td>0.501622</td>\n",
              "      <td>0.812167</td>\n",
              "      <td>11:32</td>\n",
              "    </tr>\n",
              "    <tr>\n",
              "      <td>3</td>\n",
              "      <td>0.507924</td>\n",
              "      <td>0.493643</td>\n",
              "      <td>0.816433</td>\n",
              "      <td>11:35</td>\n",
              "    </tr>\n",
              "  </tbody>\n",
              "</table>"
            ],
            "text/plain": [
              "<IPython.core.display.HTML object>"
            ]
          },
          "metadata": {
            "tags": []
          }
        }
      ]
    },
    {
      "cell_type": "code",
      "metadata": {
        "id": "ot01p9fDnPkI",
        "colab": {
          "base_uri": "https://localhost:8080/",
          "height": 311
        },
        "outputId": "23d9c96f-4403-4c57-8537-167f81403550"
      },
      "source": [
        "preds,y,losses = learn.get_preds(with_loss=True)\n",
        "interp = ClassificationInterpretation(learn, preds, y, losses)\n",
        "interp.plot_confusion_matrix()\n"
      ],
      "execution_count": null,
      "outputs": [
        {
          "output_type": "display_data",
          "data": {
            "text/html": [
              ""
            ],
            "text/plain": [
              "<IPython.core.display.HTML object>"
            ]
          },
          "metadata": {
            "tags": []
          }
        },
        {
          "output_type": "display_data",
          "data": {
            "image/png": "[encoded data removed]",
            "text/plain": [
              "<Figure size 432x288 with 1 Axes>"
            ]
          },
          "metadata": {
            "tags": [],
            "needs_background": "light"
          }
        }
      ]
    },
    {
      "cell_type": "code",
      "metadata": {
        "id": "JxhQXQjWnP0f",
        "colab": {
          "base_uri": "https://localhost:8080/",
          "height": 164
        },
        "outputId": "4b39ab8c-de0e-4931-bee6-6e57c9a374e8"
      },
      "source": [
        "interp.most_confused()"
      ],
      "execution_count": null,
      "outputs": [
        {
          "output_type": "error",
          "ename": "NameError",
          "evalue": "ignored",
          "traceback": [
            "\u001b[0;31m---------------------------------------------------------------------------\u001b[0m",
            "\u001b[0;31mNameError\u001b[0m                                 Traceback (most recent call last)",
            "\u001b[0;32m<ipython-input-1-06171ec66e30>\u001b[0m in \u001b[0;36m<module>\u001b[0;34m()\u001b[0m\n\u001b[0;32m----> 1\u001b[0;31m \u001b[0minterp\u001b[0m\u001b[0;34m.\u001b[0m\u001b[0mmost_confused\u001b[0m\u001b[0;34m(\u001b[0m\u001b[0;34m)\u001b[0m\u001b[0;34m\u001b[0m\u001b[0;34m\u001b[0m\u001b[0m\n\u001b[0m",
            "\u001b[0;31mNameError\u001b[0m: name 'interp' is not defined"
          ]
        }
      ]
    },
    {
      "cell_type": "code",
      "metadata": {
        "id": "Q8v1u06JnQEC",
        "colab": {
          "base_uri": "https://localhost:8080/",
          "height": 34
        },
        "outputId": "650bb395-35ab-431f-8ebf-5b83a2fdc214"
      },
      "source": [
        "learn.predict(\"homebrew not working\")"
      ],
      "execution_count": null,
      "outputs": [
        {
          "output_type": "execute_result",
          "data": {
            "text/plain": [
              "(Category tensor(0), tensor(0), tensor([0.9833, 0.0011, 0.0156]))"
            ]
          },
          "metadata": {
            "tags": []
          },
          "execution_count": 42
        }
      ]
    },
    {
      "cell_type": "code",
      "metadata": {
        "id": "mFYgMH39nQUq"
      },
      "source": [
        "learn.export()"
      ],
      "execution_count": null,
      "outputs": []
    },
    {
      "cell_type": "code",
      "metadata": {
        "id": "oxrrmtWVoFaa"
      },
      "source": [
        "learn.export('/content/drive/My Drive/ml/github/ULMFiT_classifier_model.pkl')\n"
      ],
      "execution_count": null,
      "outputs": []
    },
    {
      "cell_type": "code",
      "metadata": {
        "id": "CgHdcsS1oFrq"
      },
      "source": [
        "my_path = learn.path"
      ],
      "execution_count": null,
      "outputs": []
    },
    {
      "cell_type": "code",
      "metadata": {
        "id": "EOGl3UW6oF86",
        "colab": {
          "base_uri": "https://localhost:8080/",
          "height": 34
        },
        "outputId": "0c8bf90a-96e2-4d55-a12f-aa03f8ad71ca"
      },
      "source": [
        "my_path"
      ],
      "execution_count": null,
      "outputs": [
        {
          "output_type": "execute_result",
          "data": {
            "text/plain": [
              "PosixPath('.')"
            ]
          },
          "metadata": {
            "tags": []
          },
          "execution_count": 47
        }
      ]
    },
    {
      "cell_type": "code",
      "metadata": {
        "id": "nAgUM2AAoGMq",
        "colab": {
          "base_uri": "https://localhost:8080/",
          "height": 17
        },
        "outputId": "48e24c1c-15e5-4728-f2d5-8e83e3cafc82"
      },
      "source": [
        "my_learn = load_learner(\"/content/drive/My Drive/ml/github/\", 'ULMFiT_classifier_model.pkl')"
      ],
      "execution_count": null,
      "outputs": [
        {
          "output_type": "display_data",
          "data": {
            "text/html": [
              ""
            ],
            "text/plain": [
              "<IPython.core.display.HTML object>"
            ]
          },
          "metadata": {
            "tags": []
          }
        },
        {
          "output_type": "display_data",
          "data": {
            "text/html": [
              ""
            ],
            "text/plain": [
              "<IPython.core.display.HTML object>"
            ]
          },
          "metadata": {
            "tags": []
          }
        }
      ]
    },
    {
      "cell_type": "code",
      "metadata": {
        "id": "4I948cbqo0jo"
      },
      "source": [
        "pred1 = my_learn.predict(\"How to merge two columns on pandas dataframe\")"
      ],
      "execution_count": null,
      "outputs": []
    },
    {
      "cell_type": "code",
      "metadata": {
        "id": "ILArOp5Po05L",
        "colab": {
          "base_uri": "https://localhost:8080/",
          "height": 34
        },
        "outputId": "e8879f5f-9ee3-4605-bfdd-dae3b9c4fec2"
      },
      "source": [
        "type(pred1)\n",
        "print(pred1)"
      ],
      "execution_count": null,
      "outputs": [
        {
          "output_type": "stream",
          "text": [
            "(Category tensor(2), tensor(2), tensor([0.0075, 0.2696, 0.7229]))\n"
          ],
          "name": "stdout"
        }
      ]
    },
    {
      "cell_type": "markdown",
      "metadata": {
        "id": "5r9l1qA3z2ud"
      },
      "source": [
        "# **Prepare Test data to run prediction**"
      ]
    },
    {
      "cell_type": "code",
      "metadata": {
        "id": "-hgnfBEyzx2P"
      },
      "source": [
        "test['body'] = test['body'].apply(remove_url)\n",
        "#test['body'] = test['body'].astype('str') \n",
        "#test['body'] = test['body'].str.replace(\"\\\\r\",\"\")\n",
        "test['body'] = test['body'].str.replace(\"[^a-zA-Z]\", \" \")\n",
        "test['body'] = test['body'].apply(replace_r)\n",
        "test['body'] = test['body'].apply(remove_whitespace)\n",
        "test['title'] = test['title'].apply(remove_url)\n",
        "test['title'] = test['title'].str.replace(\"[^a-zA-Z]\", \" \")\n",
        "test['title'] = test['title'].apply(replace_r)\n",
        "test['title'] = test['title'].apply(remove_whitespace)\n",
        "test[\"text\"] = test[\"title\"] + test[\"body\"]\n",
        "test = test.drop(['title', 'body'], axis=1)\n",
        "\n"
      ],
      "execution_count": null,
      "outputs": []
    },
    {
      "cell_type": "code",
      "metadata": {
        "id": "jlMSgkrWzyVj",
        "colab": {
          "base_uri": "https://localhost:8080/",
          "height": 419
        },
        "outputId": "74ba9efc-4002-4474-94cd-7120ca767b22"
      },
      "source": [
        "test"
      ],
      "execution_count": null,
      "outputs": [
        {
          "output_type": "execute_result",
          "data": {
            "text/html": [
              "<div>\n",
              "<style scoped>\n",
              "    .dataframe tbody tr th:only-of-type {\n",
              "        vertical-align: middle;\n",
              "    }\n",
              "\n",
              "    .dataframe tbody tr th {\n",
              "        vertical-align: top;\n",
              "    }\n",
              "\n",
              "    .dataframe thead th {\n",
              "        text-align: right;\n",
              "    }\n",
              "</style>\n",
              "<table border=\"1\" class=\"dataframe\">\n",
              "  <thead>\n",
              "    <tr style=\"text-align: right;\">\n",
              "      <th></th>\n",
              "      <th>text</th>\n",
              "    </tr>\n",
              "  </thead>\n",
              "  <tbody>\n",
              "    <tr>\n",
              "      <th>0</th>\n",
              "      <td>config question path specific environment vari...</td>\n",
              "    </tr>\n",
              "    <tr>\n",
              "      <th>1</th>\n",
              "      <td>crash indien volde simulator crasht als hij vo...</td>\n",
              "    </tr>\n",
              "    <tr>\n",
              "      <th>2</th>\n",
              "      <td>unable to mine rockssarkasmo starting today wh...</td>\n",
              "    </tr>\n",
              "    <tr>\n",
              "      <th>3</th>\n",
              "      <td>not all whitelists are processedcreate followi...</td>\n",
              "    </tr>\n",
              "    <tr>\n",
              "      <th>4</th>\n",
              "      <td>add ctx menu for idafree and idafreeassociated...</td>\n",
              "    </tr>\n",
              "    <tr>\n",
              "      <th>...</th>\n",
              "      <td>...</td>\n",
              "    </tr>\n",
              "    <tr>\n",
              "      <th>29995</th>\n",
              "      <td>closing a project with running simulations doe...</td>\n",
              "    </tr>\n",
              "    <tr>\n",
              "      <th>29996</th>\n",
              "      <td>missing table description on db db iseries as ...</td>\n",
              "    </tr>\n",
              "    <tr>\n",
              "      <th>29997</th>\n",
              "      <td>cases when notification should be shownnew mes...</td>\n",
              "    </tr>\n",
              "    <tr>\n",
              "      <th>29998</th>\n",
              "      <td>ip errors in idea client when syncingi see the...</td>\n",
              "    </tr>\n",
              "    <tr>\n",
              "      <th>29999</th>\n",
              "      <td>portable open system pharmacology versionhello...</td>\n",
              "    </tr>\n",
              "  </tbody>\n",
              "</table>\n",
              "<p>30000 rows × 1 columns</p>\n",
              "</div>"
            ],
            "text/plain": [
              "                                                    text\n",
              "0      config question path specific environment vari...\n",
              "1      crash indien volde simulator crasht als hij vo...\n",
              "2      unable to mine rockssarkasmo starting today wh...\n",
              "3      not all whitelists are processedcreate followi...\n",
              "4      add ctx menu for idafree and idafreeassociated...\n",
              "...                                                  ...\n",
              "29995  closing a project with running simulations doe...\n",
              "29996  missing table description on db db iseries as ...\n",
              "29997  cases when notification should be shownnew mes...\n",
              "29998  ip errors in idea client when syncingi see the...\n",
              "29999  portable open system pharmacology versionhello...\n",
              "\n",
              "[30000 rows x 1 columns]"
            ]
          },
          "metadata": {
            "tags": []
          },
          "execution_count": 28
        }
      ]
    },
    {
      "cell_type": "markdown",
      "metadata": {
        "id": "r8gwtqoH0RjL"
      },
      "source": [
        "## Run the predictions"
      ]
    },
    {
      "cell_type": "code",
      "metadata": {
        "id": "eo9kSxxQzymi"
      },
      "source": [
        "test['prediction'] = test['text'].apply(lambda row: str(my_learn.predict(row)[0]))"
      ],
      "execution_count": null,
      "outputs": []
    },
    {
      "cell_type": "code",
      "metadata": {
        "id": "EBaClpiyzy3y",
        "colab": {
          "base_uri": "https://localhost:8080/",
          "height": 419
        },
        "outputId": "5d6e38e1-c500-40fd-c3fd-021a0c6e0af3"
      },
      "source": [
        "test"
      ],
      "execution_count": null,
      "outputs": [
        {
          "output_type": "execute_result",
          "data": {
            "text/html": [
              "<div>\n",
              "<style scoped>\n",
              "    .dataframe tbody tr th:only-of-type {\n",
              "        vertical-align: middle;\n",
              "    }\n",
              "\n",
              "    .dataframe tbody tr th {\n",
              "        vertical-align: top;\n",
              "    }\n",
              "\n",
              "    .dataframe thead th {\n",
              "        text-align: right;\n",
              "    }\n",
              "</style>\n",
              "<table border=\"1\" class=\"dataframe\">\n",
              "  <thead>\n",
              "    <tr style=\"text-align: right;\">\n",
              "      <th></th>\n",
              "      <th>text</th>\n",
              "      <th>prediction</th>\n",
              "    </tr>\n",
              "  </thead>\n",
              "  <tbody>\n",
              "    <tr>\n",
              "      <th>0</th>\n",
              "      <td>config question path specific environment vari...</td>\n",
              "      <td>2</td>\n",
              "    </tr>\n",
              "    <tr>\n",
              "      <th>1</th>\n",
              "      <td>crash indien volde simulator crasht als hij vo...</td>\n",
              "      <td>0</td>\n",
              "    </tr>\n",
              "    <tr>\n",
              "      <th>2</th>\n",
              "      <td>unable to mine rockssarkasmo starting today wh...</td>\n",
              "      <td>0</td>\n",
              "    </tr>\n",
              "    <tr>\n",
              "      <th>3</th>\n",
              "      <td>not all whitelists are processedcreate followi...</td>\n",
              "      <td>0</td>\n",
              "    </tr>\n",
              "    <tr>\n",
              "      <th>4</th>\n",
              "      <td>add ctx menu for idafree and idafreeassociated...</td>\n",
              "      <td>1</td>\n",
              "    </tr>\n",
              "    <tr>\n",
              "      <th>...</th>\n",
              "      <td>...</td>\n",
              "      <td>...</td>\n",
              "    </tr>\n",
              "    <tr>\n",
              "      <th>29995</th>\n",
              "      <td>closing a project with running simulations doe...</td>\n",
              "      <td>0</td>\n",
              "    </tr>\n",
              "    <tr>\n",
              "      <th>29996</th>\n",
              "      <td>missing table description on db db iseries as ...</td>\n",
              "      <td>0</td>\n",
              "    </tr>\n",
              "    <tr>\n",
              "      <th>29997</th>\n",
              "      <td>cases when notification should be shownnew mes...</td>\n",
              "      <td>0</td>\n",
              "    </tr>\n",
              "    <tr>\n",
              "      <th>29998</th>\n",
              "      <td>ip errors in idea client when syncingi see the...</td>\n",
              "      <td>0</td>\n",
              "    </tr>\n",
              "    <tr>\n",
              "      <th>29999</th>\n",
              "      <td>portable open system pharmacology versionhello...</td>\n",
              "      <td>1</td>\n",
              "    </tr>\n",
              "  </tbody>\n",
              "</table>\n",
              "<p>30000 rows × 2 columns</p>\n",
              "</div>"
            ],
            "text/plain": [
              "                                                    text prediction\n",
              "0      config question path specific environment vari...          2\n",
              "1      crash indien volde simulator crasht als hij vo...          0\n",
              "2      unable to mine rockssarkasmo starting today wh...          0\n",
              "3      not all whitelists are processedcreate followi...          0\n",
              "4      add ctx menu for idafree and idafreeassociated...          1\n",
              "...                                                  ...        ...\n",
              "29995  closing a project with running simulations doe...          0\n",
              "29996  missing table description on db db iseries as ...          0\n",
              "29997  cases when notification should be shownnew mes...          0\n",
              "29998  ip errors in idea client when syncingi see the...          0\n",
              "29999  portable open system pharmacology versionhello...          1\n",
              "\n",
              "[30000 rows x 2 columns]"
            ]
          },
          "metadata": {
            "tags": []
          },
          "execution_count": 31
        }
      ]
    },
    {
      "cell_type": "code",
      "metadata": {
        "id": "rTNOeDgFzzSJ",
        "colab": {
          "base_uri": "https://localhost:8080/",
          "height": 267
        },
        "outputId": "dd459b2a-4b7d-43c0-b660-333a2b57a7c3"
      },
      "source": [
        "test['prediction'].value_counts().plot.bar(rot=30);\n"
      ],
      "execution_count": null,
      "outputs": [
        {
          "output_type": "display_data",
          "data": {
            "image/png": "[encoded data removed]",
            "text/plain": [
              "<Figure size 432x288 with 1 Axes>"
            ]
          },
          "metadata": {
            "tags": [],
            "needs_background": "light"
          }
        }
      ]
    },
    {
      "cell_type": "code",
      "metadata": {
        "id": "k1xWKnHbzzk9"
      },
      "source": [
        "test.to_csv('/content/drive/My Drive/ml/github/prediction.csv')"
      ],
      "execution_count": null,
      "outputs": []
    },
    {
      "cell_type": "code",
      "metadata": {
        "id": "mR4hKbebzz2f"
      },
      "source": [
        "test = test.rename(columns={'prediction': 'label'})"
      ],
      "execution_count": null,
      "outputs": []
    },
    {
      "cell_type": "code",
      "metadata": {
        "id": "Iw3slsRSRQ30",
        "colab": {
          "base_uri": "https://localhost:8080/",
          "height": 419
        },
        "outputId": "cdd48e63-9369-4834-ae90-40dbb1aa571e"
      },
      "source": [
        "test"
      ],
      "execution_count": null,
      "outputs": [
        {
          "output_type": "execute_result",
          "data": {
            "text/html": [
              "<div>\n",
              "<style scoped>\n",
              "    .dataframe tbody tr th:only-of-type {\n",
              "        vertical-align: middle;\n",
              "    }\n",
              "\n",
              "    .dataframe tbody tr th {\n",
              "        vertical-align: top;\n",
              "    }\n",
              "\n",
              "    .dataframe thead th {\n",
              "        text-align: right;\n",
              "    }\n",
              "</style>\n",
              "<table border=\"1\" class=\"dataframe\">\n",
              "  <thead>\n",
              "    <tr style=\"text-align: right;\">\n",
              "      <th></th>\n",
              "      <th>text</th>\n",
              "      <th>label</th>\n",
              "    </tr>\n",
              "  </thead>\n",
              "  <tbody>\n",
              "    <tr>\n",
              "      <th>0</th>\n",
              "      <td>config question path specific environment vari...</td>\n",
              "      <td>2</td>\n",
              "    </tr>\n",
              "    <tr>\n",
              "      <th>1</th>\n",
              "      <td>crash indien volde simulator crasht als hij vo...</td>\n",
              "      <td>0</td>\n",
              "    </tr>\n",
              "    <tr>\n",
              "      <th>2</th>\n",
              "      <td>unable to mine rockssarkasmo starting today wh...</td>\n",
              "      <td>0</td>\n",
              "    </tr>\n",
              "    <tr>\n",
              "      <th>3</th>\n",
              "      <td>not all whitelists are processedcreate followi...</td>\n",
              "      <td>0</td>\n",
              "    </tr>\n",
              "    <tr>\n",
              "      <th>4</th>\n",
              "      <td>add ctx menu for idafree and idafreeassociated...</td>\n",
              "      <td>1</td>\n",
              "    </tr>\n",
              "    <tr>\n",
              "      <th>...</th>\n",
              "      <td>...</td>\n",
              "      <td>...</td>\n",
              "    </tr>\n",
              "    <tr>\n",
              "      <th>29995</th>\n",
              "      <td>closing a project with running simulations doe...</td>\n",
              "      <td>0</td>\n",
              "    </tr>\n",
              "    <tr>\n",
              "      <th>29996</th>\n",
              "      <td>missing table description on db db iseries as ...</td>\n",
              "      <td>0</td>\n",
              "    </tr>\n",
              "    <tr>\n",
              "      <th>29997</th>\n",
              "      <td>cases when notification should be shownnew mes...</td>\n",
              "      <td>0</td>\n",
              "    </tr>\n",
              "    <tr>\n",
              "      <th>29998</th>\n",
              "      <td>ip errors in idea client when syncingi see the...</td>\n",
              "      <td>0</td>\n",
              "    </tr>\n",
              "    <tr>\n",
              "      <th>29999</th>\n",
              "      <td>portable open system pharmacology versionhello...</td>\n",
              "      <td>1</td>\n",
              "    </tr>\n",
              "  </tbody>\n",
              "</table>\n",
              "<p>30000 rows × 2 columns</p>\n",
              "</div>"
            ],
            "text/plain": [
              "                                                    text label\n",
              "0      config question path specific environment vari...     2\n",
              "1      crash indien volde simulator crasht als hij vo...     0\n",
              "2      unable to mine rockssarkasmo starting today wh...     0\n",
              "3      not all whitelists are processedcreate followi...     0\n",
              "4      add ctx menu for idafree and idafreeassociated...     1\n",
              "...                                                  ...   ...\n",
              "29995  closing a project with running simulations doe...     0\n",
              "29996  missing table description on db db iseries as ...     0\n",
              "29997  cases when notification should be shownnew mes...     0\n",
              "29998  ip errors in idea client when syncingi see the...     0\n",
              "29999  portable open system pharmacology versionhello...     1\n",
              "\n",
              "[30000 rows x 2 columns]"
            ]
          },
          "metadata": {
            "tags": []
          },
          "execution_count": 35
        }
      ]
    },
    {
      "cell_type": "code",
      "metadata": {
        "id": "8lxsE151RVbR"
      },
      "source": [
        "test.to_csv('/content/drive/My Drive/ml/github/submission_Oct12.csv', columns=['label'], index=False)"
      ],
      "execution_count": null,
      "outputs": []
    },
    {
      "cell_type": "code",
      "metadata": {
        "id": "jzMvu4li3TtX"
      },
      "source": [
        "import nltk"
      ],
      "execution_count": null,
      "outputs": []
    },
    {
      "cell_type": "code",
      "metadata": {
        "id": "eSnKsIwL8Hsy",
        "colab": {
          "base_uri": "https://localhost:8080/",
          "height": 68
        },
        "outputId": "e01874ee-fcb3-41c7-8688-3669fb4774a9"
      },
      "source": [
        "nltk.download('stopwords')"
      ],
      "execution_count": null,
      "outputs": [
        {
          "output_type": "stream",
          "text": [
            "[nltk_data] Downloading package stopwords to /root/nltk_data...\n",
            "[nltk_data]   Unzipping corpora/stopwords.zip.\n"
          ],
          "name": "stdout"
        },
        {
          "output_type": "execute_result",
          "data": {
            "text/plain": [
              "True"
            ]
          },
          "metadata": {
            "tags": []
          },
          "execution_count": 35
        }
      ]
    },
    {
      "cell_type": "code",
      "metadata": {
        "id": "nH4Mm2ju7znl"
      },
      "source": [
        "from nltk.corpus import stopwords \n",
        "stop_words = stopwords.words('english')"
      ],
      "execution_count": null,
      "outputs": []
    },
    {
      "cell_type": "code",
      "metadata": {
        "id": "JIoDFfDi73DK"
      },
      "source": [
        "# tokenization \n",
        "tokenized_doc = train['body'].apply(lambda x: x.split())"
      ],
      "execution_count": null,
      "outputs": []
    },
    {
      "cell_type": "code",
      "metadata": {
        "id": "251qJueC8RZw"
      },
      "source": [
        "# remove stop-words \n",
        "tokenized_doc = tokenized_doc.apply(lambda x: [item for item in x if item not in stop_words])\n"
      ],
      "execution_count": null,
      "outputs": []
    },
    {
      "cell_type": "code",
      "metadata": {
        "id": "F7f3k3hX8T-j",
        "colab": {
          "base_uri": "https://localhost:8080/",
          "height": 221
        },
        "outputId": "b80e16b6-013c-4a07-b888-0952232e351b"
      },
      "source": [
        "tokenized_doc"
      ],
      "execution_count": null,
      "outputs": [
        {
          "output_type": "execute_result",
          "data": {
            "text/plain": [
              "0                        [zoom, piano, roll, would, useful]\n",
              "1         [screenshot, https, cloud, githubusercontent, ...\n",
              "2         [hi, r, r, great, job, far, saenzramiro, r, r,...\n",
              "3         [think, stop, logging, requests, r, health, r,...\n",
              "4         [expected, behavior, r, alarm, actions, pid, p...\n",
              "                                ...                        \n",
              "149995    [note, anything, within, brackets, hidden, pre...\n",
              "149996    [noted, nicholst, neurovault, images, display,...\n",
              "149997    [raml, r, r, yaml, r, raml, r, title, test, r,...\n",
              "149998                  [see, r, r, occurs, branch, routes]\n",
              "149999    [process, headings, inside, quotes, code, sect...\n",
              "Name: body, Length: 150000, dtype: object"
            ]
          },
          "metadata": {
            "tags": []
          },
          "execution_count": 40
        }
      ]
    },
    {
      "cell_type": "code",
      "metadata": {
        "id": "2_tw6KLt8ocj"
      },
      "source": [
        "# de-tokenization \n",
        "detokenized_doc = [] \n",
        "for i in range(len(train)): \n",
        "    t = ' '.join(tokenized_doc[i]) \n",
        "    detokenized_doc.append(t) "
      ],
      "execution_count": null,
      "outputs": []
    },
    {
      "cell_type": "code",
      "metadata": {
        "id": "V4HzMI9g84K0"
      },
      "source": [
        "train['body'] = detokenized_doc"
      ],
      "execution_count": null,
      "outputs": []
    },
    {
      "cell_type": "code",
      "metadata": {
        "id": "Slmr5j1T9BZ9",
        "colab": {
          "base_uri": "https://localhost:8080/",
          "height": 204
        },
        "outputId": "76262d93-5f2e-473d-cf3c-a0f1529acb44"
      },
      "source": [
        "train.head()"
      ],
      "execution_count": null,
      "outputs": [
        {
          "output_type": "execute_result",
          "data": {
            "text/html": [
              "<div>\n",
              "<style scoped>\n",
              "    .dataframe tbody tr th:only-of-type {\n",
              "        vertical-align: middle;\n",
              "    }\n",
              "\n",
              "    .dataframe tbody tr th {\n",
              "        vertical-align: top;\n",
              "    }\n",
              "\n",
              "    .dataframe thead th {\n",
              "        text-align: right;\n",
              "    }\n",
              "</style>\n",
              "<table border=\"1\" class=\"dataframe\">\n",
              "  <thead>\n",
              "    <tr style=\"text-align: right;\">\n",
              "      <th></th>\n",
              "      <th>title</th>\n",
              "      <th>body</th>\n",
              "      <th>label</th>\n",
              "    </tr>\n",
              "  </thead>\n",
              "  <tbody>\n",
              "    <tr>\n",
              "      <th>0</th>\n",
              "      <td>y-zoom piano roll</td>\n",
              "      <td>zoom piano roll would useful</td>\n",
              "      <td>1</td>\n",
              "    </tr>\n",
              "    <tr>\n",
              "      <th>1</th>\n",
              "      <td>buggy behavior in selection</td>\n",
              "      <td>screenshot https cloud githubusercontent com a...</td>\n",
              "      <td>0</td>\n",
              "    </tr>\n",
              "    <tr>\n",
              "      <th>2</th>\n",
              "      <td>auto update feature</td>\n",
              "      <td>hi r r great job far saenzramiro r r auto upda...</td>\n",
              "      <td>1</td>\n",
              "    </tr>\n",
              "    <tr>\n",
              "      <th>3</th>\n",
              "      <td>filter out noisy endpoints in logs</td>\n",
              "      <td>think stop logging requests r health r gtg r f...</td>\n",
              "      <td>1</td>\n",
              "    </tr>\n",
              "    <tr>\n",
              "      <th>4</th>\n",
              "      <td>enable pid on / pid off alarm actions for ardu...</td>\n",
              "      <td>expected behavior r alarm actions pid pid enab...</td>\n",
              "      <td>0</td>\n",
              "    </tr>\n",
              "  </tbody>\n",
              "</table>\n",
              "</div>"
            ],
            "text/plain": [
              "                                               title  ... label\n",
              "0                                  y-zoom piano roll  ...     1\n",
              "1                        buggy behavior in selection  ...     0\n",
              "2                                auto update feature  ...     1\n",
              "3                 filter out noisy endpoints in logs  ...     1\n",
              "4  enable pid on / pid off alarm actions for ardu...  ...     0\n",
              "\n",
              "[5 rows x 3 columns]"
            ]
          },
          "metadata": {
            "tags": []
          },
          "execution_count": 47
        }
      ]
    },
    {
      "cell_type": "code",
      "metadata": {
        "id": "gddlu_vJ9XBB"
      },
      "source": [
        ""
      ],
      "execution_count": null,
      "outputs": []
    }
  ]
}
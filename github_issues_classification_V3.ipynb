{
  "nbformat": 4,
  "nbformat_minor": 0,
  "metadata": {
    "colab": {
      "name": "github_issues_classification_V3.ipynb",
      "provenance": [],
      "authorship_tag": "ABX9TyNbu7Sk84jCqRQzf+XY89UB",
      "include_colab_link": true
    },
    "kernelspec": {
      "name": "python3",
      "display_name": "Python 3"
    },
    "accelerator": "GPU"
  },
  "cells": [
    {
      "cell_type": "markdown",
      "metadata": {
        "id": "view-in-github",
        "colab_type": "text"
      },
      "source": [
        "<a href=\"https://colab.research.google.com/github/sengorajkumar/machinehack-github-issues-classification/blob/main/github_issues_classification_V3.ipynb\" target=\"_parent\"><img src=\"https://colab.research.google.com/assets/colab-badge.svg\" alt=\"Open In Colab\"/></a>"
      ]
    },
    {
      "cell_type": "code",
      "metadata": {
        "id": "8BSgCvi_gzYG"
      },
      "source": [
        "%reload_ext autoreload\n",
        "%autoreload 2\n",
        "%matplotlib inline\n",
        "from fastai.text import *\n",
        "import torch\n",
        "import fastai\n",
        "import pandas as pd\n",
        "import matplotlib.pyplot as plt\n",
        "import seaborn as sns"
      ],
      "execution_count": null,
      "outputs": []
    },
    {
      "cell_type": "code",
      "metadata": {
        "id": "oj6bW3vTg7z8",
        "colab": {
          "base_uri": "https://localhost:8080/",
          "height": 35
        },
        "outputId": "4ec9ebdc-ffb1-4293-c1ac-e3b16bab30d2"
      },
      "source": [
        "fastai.__version__"
      ],
      "execution_count": null,
      "outputs": [
        {
          "output_type": "execute_result",
          "data": {
            "application/vnd.google.colaboratory.intrinsic+json": {
              "type": "string"
            },
            "text/plain": [
              "'1.0.61'"
            ]
          },
          "metadata": {
            "tags": []
          },
          "execution_count": 25
        }
      ]
    },
    {
      "cell_type": "code",
      "metadata": {
        "id": "lZyT2v1EJxVG"
      },
      "source": [
        "!ln -sf /opt/bin/nvidia-smi /usr/bin/nvidia-smi\n",
        "#import commands\n",
        "#print(commands.getoutput('nvidia-smi'))"
      ],
      "execution_count": null,
      "outputs": []
    },
    {
      "cell_type": "code",
      "metadata": {
        "id": "X2J91E_IhZcz",
        "colab": {
          "base_uri": "https://localhost:8080/",
          "height": 34
        },
        "outputId": "c58a74c9-54d5-4d01-9c4f-43b15cc23af7"
      },
      "source": [
        "defaults.device"
      ],
      "execution_count": null,
      "outputs": [
        {
          "output_type": "execute_result",
          "data": {
            "text/plain": [
              "device(type='cuda')"
            ]
          },
          "metadata": {
            "tags": []
          },
          "execution_count": 27
        }
      ]
    },
    {
      "cell_type": "code",
      "metadata": {
        "id": "EfI08JrPhcfi",
        "colab": {
          "base_uri": "https://localhost:8080/",
          "height": 54
        },
        "outputId": "ab1b75a9-352d-4f1c-9658-8861bd7873af"
      },
      "source": [
        "from google.colab import drive\n",
        "drive.mount('/content/drive')"
      ],
      "execution_count": null,
      "outputs": [
        {
          "output_type": "stream",
          "text": [
            "Drive already mounted at /content/drive; to attempt to forcibly remount, call drive.mount(\"/content/drive\", force_remount=True).\n"
          ],
          "name": "stdout"
        }
      ]
    },
    {
      "cell_type": "code",
      "metadata": {
        "id": "AhqwyzLJh3LT"
      },
      "source": [
        "path = '/ml/github'\n",
        "train = pd.read_json('/content/drive/My Drive/ml/github/embold_train.json')\n",
        "test = pd.read_json('/content/drive/My Drive/ml/github/embold_test.json')\n",
        "train_extra = pd.read_json('/content/drive/My Drive/ml/github/embold_train_extra.json')"
      ],
      "execution_count": null,
      "outputs": []
    },
    {
      "cell_type": "markdown",
      "metadata": {
        "id": "nJhIWRrQlG9h"
      },
      "source": [
        "Labels:\n",
        "* Bug - 0\n",
        "* Feature - 1\n",
        "* Question - 2"
      ]
    },
    {
      "cell_type": "code",
      "metadata": {
        "id": "Mqs0ghPdjkaW",
        "colab": {
          "base_uri": "https://localhost:8080/",
          "height": 419
        },
        "outputId": "892bc2af-e31e-4e2d-9080-35fec1f438e8"
      },
      "source": [
        "all_train = pd.concat([train, train_extra], axis=0)\n",
        "all_train.reset_index(drop=True)"
      ],
      "execution_count": null,
      "outputs": [
        {
          "output_type": "execute_result",
          "data": {
            "text/html": [
              "<div>\n",
              "<style scoped>\n",
              "    .dataframe tbody tr th:only-of-type {\n",
              "        vertical-align: middle;\n",
              "    }\n",
              "\n",
              "    .dataframe tbody tr th {\n",
              "        vertical-align: top;\n",
              "    }\n",
              "\n",
              "    .dataframe thead th {\n",
              "        text-align: right;\n",
              "    }\n",
              "</style>\n",
              "<table border=\"1\" class=\"dataframe\">\n",
              "  <thead>\n",
              "    <tr style=\"text-align: right;\">\n",
              "      <th></th>\n",
              "      <th>title</th>\n",
              "      <th>body</th>\n",
              "      <th>label</th>\n",
              "    </tr>\n",
              "  </thead>\n",
              "  <tbody>\n",
              "    <tr>\n",
              "      <th>0</th>\n",
              "      <td>y-zoom piano roll</td>\n",
              "      <td>a y-zoom on the piano roll would be useful.</td>\n",
              "      <td>1</td>\n",
              "    </tr>\n",
              "    <tr>\n",
              "      <th>1</th>\n",
              "      <td>buggy behavior in selection</td>\n",
              "      <td>! screenshot from 2016-02-23 21 27 40  https:/...</td>\n",
              "      <td>0</td>\n",
              "    </tr>\n",
              "    <tr>\n",
              "      <th>2</th>\n",
              "      <td>auto update feature</td>\n",
              "      <td>hi,\\r \\r great job so far, @saenzramiro ! : \\r...</td>\n",
              "      <td>1</td>\n",
              "    </tr>\n",
              "    <tr>\n",
              "      <th>3</th>\n",
              "      <td>filter out noisy endpoints in logs</td>\n",
              "      <td>i think we should stop logging requests to:\\r ...</td>\n",
              "      <td>1</td>\n",
              "    </tr>\n",
              "    <tr>\n",
              "      <th>4</th>\n",
              "      <td>enable pid on / pid off alarm actions for ardu...</td>\n",
              "      <td>expected behavior\\r alarm actions pid on and p...</td>\n",
              "      <td>0</td>\n",
              "    </tr>\n",
              "    <tr>\n",
              "      <th>...</th>\n",
              "      <td>...</td>\n",
              "      <td>...</td>\n",
              "      <td>...</td>\n",
              "    </tr>\n",
              "    <tr>\n",
              "      <th>449995</th>\n",
              "      <td>shield against invalid dates</td>\n",
              "      <td>makes'em crash the renderer for now :|\\r \\r da...</td>\n",
              "      <td>0</td>\n",
              "    </tr>\n",
              "    <tr>\n",
              "      <th>449996</th>\n",
              "      <td>fix the knight</td>\n",
              "      <td>seriously, if you do just one thing this week...</td>\n",
              "      <td>0</td>\n",
              "    </tr>\n",
              "    <tr>\n",
              "      <th>449997</th>\n",
              "      <td>portaudio playback binding crashes often, ubun...</td>\n",
              "      <td>appear to be very unstable. relates to  17</td>\n",
              "      <td>0</td>\n",
              "    </tr>\n",
              "    <tr>\n",
              "      <th>449998</th>\n",
              "      <td>add --db-path option for allowing user to spec...</td>\n",
              "      <td>add  --db-path  option with default value as  ...</td>\n",
              "      <td>1</td>\n",
              "    </tr>\n",
              "    <tr>\n",
              "      <th>449999</th>\n",
              "      <td>staff users cannot log in to admin</td>\n",
              "      <td>i added admire as a staff user but he cannot l...</td>\n",
              "      <td>0</td>\n",
              "    </tr>\n",
              "  </tbody>\n",
              "</table>\n",
              "<p>450000 rows × 3 columns</p>\n",
              "</div>"
            ],
            "text/plain": [
              "                                                    title  ... label\n",
              "0                                       y-zoom piano roll  ...     1\n",
              "1                             buggy behavior in selection  ...     0\n",
              "2                                     auto update feature  ...     1\n",
              "3                      filter out noisy endpoints in logs  ...     1\n",
              "4       enable pid on / pid off alarm actions for ardu...  ...     0\n",
              "...                                                   ...  ...   ...\n",
              "449995                       shield against invalid dates  ...     0\n",
              "449996                                     fix the knight  ...     0\n",
              "449997  portaudio playback binding crashes often, ubun...  ...     0\n",
              "449998  add --db-path option for allowing user to spec...  ...     1\n",
              "449999                 staff users cannot log in to admin  ...     0\n",
              "\n",
              "[450000 rows x 3 columns]"
            ]
          },
          "metadata": {
            "tags": []
          },
          "execution_count": 30
        }
      ]
    },
    {
      "cell_type": "markdown",
      "metadata": {
        "id": "jsBKfg47lFPO"
      },
      "source": [
        ""
      ]
    },
    {
      "cell_type": "code",
      "metadata": {
        "id": "p_wCJAslj3QB"
      },
      "source": [
        "#all_train[\"text\"] = all_train[\"title\"] + all_train[\"body\"]\n",
        "\n",
        "all_train[\"text\"] = all_train[['title', 'body']].agg(' '.join, axis=1)\n",
        "all_train = all_train.drop(['title', 'body'], axis=1)\n"
      ],
      "execution_count": null,
      "outputs": []
    },
    {
      "cell_type": "code",
      "metadata": {
        "id": "hbHav2Ej0EUL"
      },
      "source": [
        "import re\n",
        "def remove_url(text):\n",
        "# function to remove urls\n",
        "  return (re.sub(r'\\w+:\\/{2}[\\d\\w-]+(\\.[\\d\\w-]+)*(?:(?:\\/[^\\s/]*))*', '',text))\n",
        "\n",
        "def replace_r(text):\n",
        "  return text.replace(' r ', ' ')\n",
        "\n",
        "def remove_whitespace(text):\n",
        "  return ' '.join(text.split())\n",
        "\n",
        "def cleanString(text):\n",
        "  return (re.sub('\\W+',' ', text))"
      ],
      "execution_count": null,
      "outputs": []
    },
    {
      "cell_type": "code",
      "metadata": {
        "id": "5KCwneoj194u"
      },
      "source": [
        "all_train['text'] = all_train['text'].apply(remove_url)\n",
        "all_train['text'] = all_train['text'].str.replace(\"[^a-zA-Z]\", \" \")\n",
        "#all_train['text'] = all_train['text'].apply(replace_r)\n",
        "all_train['text'] = all_train['text'].apply(cleanString)\n",
        "all_train['text'] = all_train['text'].apply(remove_whitespace)"
      ],
      "execution_count": null,
      "outputs": []
    },
    {
      "cell_type": "code",
      "metadata": {
        "id": "xrav2YT7eSvt",
        "colab": {
          "base_uri": "https://localhost:8080/",
          "height": 54
        },
        "outputId": "03868928-2b25-49b2-8a10-894e6fefc725"
      },
      "source": [
        "print(all_train.iloc[1668][1])\n"
      ],
      "execution_count": null,
      "outputs": [
        {
          "output_type": "stream",
          "text": [
            "webview openurl ios hi i fount this code for android to open webview urls outside of the app r r r exports webviewloaded function args r var webview args object r var tnswebviewclient r android webkit webviewclient extend r shouldoverrideurlloading function view url r if url null url startswith https r console log url r utilitymodule openurl url r return true r else r return false r r r r if isandroid r webview android getsettings setdisplayzoomcontrols false r webview android getsettings setbuiltinzoomcontrols false r webview android setwebviewclient new tnswebviewclient r r r r r it works fine is there a way to do the same for ios r r thank you r\n"
          ],
          "name": "stdout"
        }
      ]
    },
    {
      "cell_type": "code",
      "metadata": {
        "id": "ku8bX572FZtu"
      },
      "source": [
        "all_train['text'] = all_train['text'].apply(replace_r)"
      ],
      "execution_count": null,
      "outputs": []
    },
    {
      "cell_type": "code",
      "metadata": {
        "id": "3tJhwGXJ-tUH",
        "colab": {
          "base_uri": "https://localhost:8080/",
          "height": 241
        },
        "outputId": "0b775b77-a65c-4841-955c-96e28c737601"
      },
      "source": [
        "print(all_train.iloc[1668][1])\n",
        "\n",
        "all_train.head()"
      ],
      "execution_count": null,
      "outputs": [
        {
          "output_type": "stream",
          "text": [
            "webview openurl ios hi i fount this code for android to open webview urls outside of the app r exports webviewloaded function args var webview args object var tnswebviewclient android webkit webviewclient extend shouldoverrideurlloading function view url if url null url startswith https console log url utilitymodule openurl url return true else return false r r if isandroid webview android getsettings setdisplayzoomcontrols false webview android getsettings setbuiltinzoomcontrols false webview android setwebviewclient new tnswebviewclient r r it works fine is there a way to do the same for ios r thank you r\n"
          ],
          "name": "stdout"
        },
        {
          "output_type": "execute_result",
          "data": {
            "text/html": [
              "<div>\n",
              "<style scoped>\n",
              "    .dataframe tbody tr th:only-of-type {\n",
              "        vertical-align: middle;\n",
              "    }\n",
              "\n",
              "    .dataframe tbody tr th {\n",
              "        vertical-align: top;\n",
              "    }\n",
              "\n",
              "    .dataframe thead th {\n",
              "        text-align: right;\n",
              "    }\n",
              "</style>\n",
              "<table border=\"1\" class=\"dataframe\">\n",
              "  <thead>\n",
              "    <tr style=\"text-align: right;\">\n",
              "      <th></th>\n",
              "      <th>label</th>\n",
              "      <th>text</th>\n",
              "    </tr>\n",
              "  </thead>\n",
              "  <tbody>\n",
              "    <tr>\n",
              "      <th>0</th>\n",
              "      <td>1</td>\n",
              "      <td>y zoom piano roll a y zoom on the piano roll w...</td>\n",
              "    </tr>\n",
              "    <tr>\n",
              "      <th>1</th>\n",
              "      <td>0</td>\n",
              "      <td>buggy behavior in selection screenshot from r</td>\n",
              "    </tr>\n",
              "    <tr>\n",
              "      <th>2</th>\n",
              "      <td>1</td>\n",
              "      <td>auto update feature hi r great job so far saen...</td>\n",
              "    </tr>\n",
              "    <tr>\n",
              "      <th>3</th>\n",
              "      <td>1</td>\n",
              "      <td>filter out noisy endpoints in logs i think we ...</td>\n",
              "    </tr>\n",
              "    <tr>\n",
              "      <th>4</th>\n",
              "      <td>0</td>\n",
              "      <td>enable pid on pid off alarm actions for arduin...</td>\n",
              "    </tr>\n",
              "  </tbody>\n",
              "</table>\n",
              "</div>"
            ],
            "text/plain": [
              "   label                                               text\n",
              "0      1  y zoom piano roll a y zoom on the piano roll w...\n",
              "1      0      buggy behavior in selection screenshot from r\n",
              "2      1  auto update feature hi r great job so far saen...\n",
              "3      1  filter out noisy endpoints in logs i think we ...\n",
              "4      0  enable pid on pid off alarm actions for arduin..."
            ]
          },
          "metadata": {
            "tags": []
          },
          "execution_count": 36
        }
      ]
    },
    {
      "cell_type": "code",
      "metadata": {
        "id": "67r7PfWU2GCG"
      },
      "source": [
        "mapping = {\n",
        "  0: 'bug',\n",
        "  1: 'feature',\n",
        "  2: 'question'}"
      ],
      "execution_count": null,
      "outputs": []
    },
    {
      "cell_type": "code",
      "metadata": {
        "id": "ue4nXSzU2WJv",
        "colab": {
          "base_uri": "https://localhost:8080/",
          "height": 267
        },
        "outputId": "f6c39305-934c-4b20-c414-27bacf9a58ce"
      },
      "source": [
        "all_train['label'].value_counts().plot.bar(rot=30);\n",
        "#https://www.analyticsvidhya.com/blog/2018/11/tutorial-text-classification-ulmfit-fastai-library/"
      ],
      "execution_count": null,
      "outputs": [
        {
          "output_type": "display_data",
          "data": {
            "image/png": "[encoded data removed]",
            "text/plain": [
              "<Figure size 432x288 with 1 Axes>"
            ]
          },
          "metadata": {
            "tags": [],
            "needs_background": "light"
          }
        }
      ]
    },
    {
      "cell_type": "code",
      "metadata": {
        "id": "w8NV-S4dGz9s",
        "colab": {
          "base_uri": "https://localhost:8080/",
          "height": 34
        },
        "outputId": "c48fe08f-3c60-4abb-ed4e-c67fbca6d055"
      },
      "source": [
        "print(\"Cuda available\" if torch.cuda.is_available() is True else \"CPU\")"
      ],
      "execution_count": null,
      "outputs": [
        {
          "output_type": "stream",
          "text": [
            "Cuda available\n"
          ],
          "name": "stdout"
        }
      ]
    },
    {
      "cell_type": "markdown",
      "metadata": {
        "id": "6F4DHb5wHBP7"
      },
      "source": [
        "**Train Test Split**"
      ]
    },
    {
      "cell_type": "code",
      "metadata": {
        "id": "cr439W7RG_bC",
        "colab": {
          "base_uri": "https://localhost:8080/",
          "height": 34
        },
        "outputId": "3f23a66f-86ea-48d1-c489-48743aa6cb54"
      },
      "source": [
        "from sklearn.model_selection import train_test_split\n",
        "df_trn, df_val = train_test_split(all_train, stratify = all_train['label'], test_size = 0.2)\n",
        "df_trn.shape, df_val.shape"
      ],
      "execution_count": null,
      "outputs": [
        {
          "output_type": "execute_result",
          "data": {
            "text/plain": [
              "((360000, 2), (90000, 2))"
            ]
          },
          "metadata": {
            "tags": []
          },
          "execution_count": 40
        }
      ]
    },
    {
      "cell_type": "code",
      "metadata": {
        "id": "OFdhf2ci22f3",
        "colab": {
          "base_uri": "https://localhost:8080/",
          "height": 419
        },
        "outputId": "ee89e0a3-c362-4607-8b38-5b42ee680453"
      },
      "source": [
        "df_val"
      ],
      "execution_count": null,
      "outputs": [
        {
          "output_type": "execute_result",
          "data": {
            "text/html": [
              "<div>\n",
              "<style scoped>\n",
              "    .dataframe tbody tr th:only-of-type {\n",
              "        vertical-align: middle;\n",
              "    }\n",
              "\n",
              "    .dataframe tbody tr th {\n",
              "        vertical-align: top;\n",
              "    }\n",
              "\n",
              "    .dataframe thead th {\n",
              "        text-align: right;\n",
              "    }\n",
              "</style>\n",
              "<table border=\"1\" class=\"dataframe\">\n",
              "  <thead>\n",
              "    <tr style=\"text-align: right;\">\n",
              "      <th></th>\n",
              "      <th>label</th>\n",
              "      <th>text</th>\n",
              "    </tr>\n",
              "  </thead>\n",
              "  <tbody>\n",
              "    <tr>\n",
              "      <th>12244</th>\n",
              "      <td>2</td>\n",
              "      <td>struct of look i can t find any information ab...</td>\n",
              "    </tr>\n",
              "    <tr>\n",
              "      <th>247113</th>\n",
              "      <td>0</td>\n",
              "      <td>manager component in one paddock is affecting ...</td>\n",
              "    </tr>\n",
              "    <tr>\n",
              "      <th>108950</th>\n",
              "      <td>1</td>\n",
              "      <td>add built in functions to perform cidr math ad...</td>\n",
              "    </tr>\n",
              "    <tr>\n",
              "      <th>148373</th>\n",
              "      <td>0</td>\n",
              "      <td>bike mode option broken picking the bike mode ...</td>\n",
              "    </tr>\n",
              "    <tr>\n",
              "      <th>3872</th>\n",
              "      <td>0</td>\n",
              "      <td>page shows when all addons in the second page ...</td>\n",
              "    </tr>\n",
              "    <tr>\n",
              "      <th>...</th>\n",
              "      <td>...</td>\n",
              "      <td>...</td>\n",
              "    </tr>\n",
              "    <tr>\n",
              "      <th>108091</th>\n",
              "      <td>0</td>\n",
              "      <td>in advanced search the th box always goes onto...</td>\n",
              "    </tr>\n",
              "    <tr>\n",
              "      <th>60964</th>\n",
              "      <td>0</td>\n",
              "      <td>node migration race condition situation r crea...</td>\n",
              "    </tr>\n",
              "    <tr>\n",
              "      <th>26050</th>\n",
              "      <td>1</td>\n",
              "      <td>new plugin for searchprovider a plugin for sea...</td>\n",
              "    </tr>\n",
              "    <tr>\n",
              "      <th>269721</th>\n",
              "      <td>0</td>\n",
              "      <td>fetching data from the localstorage on hard re...</td>\n",
              "    </tr>\n",
              "    <tr>\n",
              "      <th>293709</th>\n",
              "      <td>2</td>\n",
              "      <td>transfer repo to an organization create an org...</td>\n",
              "    </tr>\n",
              "  </tbody>\n",
              "</table>\n",
              "<p>90000 rows × 2 columns</p>\n",
              "</div>"
            ],
            "text/plain": [
              "        label                                               text\n",
              "12244       2  struct of look i can t find any information ab...\n",
              "247113      0  manager component in one paddock is affecting ...\n",
              "108950      1  add built in functions to perform cidr math ad...\n",
              "148373      0  bike mode option broken picking the bike mode ...\n",
              "3872        0  page shows when all addons in the second page ...\n",
              "...       ...                                                ...\n",
              "108091      0  in advanced search the th box always goes onto...\n",
              "60964       0  node migration race condition situation r crea...\n",
              "26050       1  new plugin for searchprovider a plugin for sea...\n",
              "269721      0  fetching data from the localstorage on hard re...\n",
              "293709      2  transfer repo to an organization create an org...\n",
              "\n",
              "[90000 rows x 2 columns]"
            ]
          },
          "metadata": {
            "tags": []
          },
          "execution_count": 41
        }
      ]
    },
    {
      "cell_type": "code",
      "metadata": {
        "id": "WVEDcY_rHv4w",
        "colab": {
          "base_uri": "https://localhost:8080/",
          "height": 17
        },
        "outputId": "70d33a16-4120-473d-9f7d-18cab454e890"
      },
      "source": [
        "# Language model data\n",
        "data_lm = TextLMDataBunch.from_df(train_df = df_trn, valid_df = df_val, path = \"\")\n",
        "\n",
        "# Classifier model data\n",
        "data_clas = TextClasDataBunch.from_df(train_df = df_trn, valid_df = df_val, path = \"\", vocab=data_lm.train_ds.vocab, bs=32)"
      ],
      "execution_count": null,
      "outputs": [
        {
          "output_type": "display_data",
          "data": {
            "text/html": [
              ""
            ],
            "text/plain": [
              "<IPython.core.display.HTML object>"
            ]
          },
          "metadata": {
            "tags": []
          }
        },
        {
          "output_type": "display_data",
          "data": {
            "text/html": [
              ""
            ],
            "text/plain": [
              "<IPython.core.display.HTML object>"
            ]
          },
          "metadata": {
            "tags": []
          }
        },
        {
          "output_type": "display_data",
          "data": {
            "text/html": [
              ""
            ],
            "text/plain": [
              "<IPython.core.display.HTML object>"
            ]
          },
          "metadata": {
            "tags": []
          }
        },
        {
          "output_type": "display_data",
          "data": {
            "text/html": [
              ""
            ],
            "text/plain": [
              "<IPython.core.display.HTML object>"
            ]
          },
          "metadata": {
            "tags": []
          }
        }
      ]
    },
    {
      "cell_type": "code",
      "metadata": {
        "id": "V8lcP7iCK0LU",
        "colab": {
          "base_uri": "https://localhost:8080/",
          "height": 476
        },
        "outputId": "aefc33b4-70e4-4d02-dfd2-0e82337a9b0e"
      },
      "source": [
        "from tensorflow.python.client import device_lib\n",
        "device_lib.list_local_devices()"
      ],
      "execution_count": null,
      "outputs": [
        {
          "output_type": "execute_result",
          "data": {
            "text/plain": [
              "[name: \"/device:CPU:0\"\n",
              " device_type: \"CPU\"\n",
              " memory_limit: 268435456\n",
              " locality {\n",
              " }\n",
              " incarnation: 12954990441973664021, name: \"/device:XLA_CPU:0\"\n",
              " device_type: \"XLA_CPU\"\n",
              " memory_limit: 17179869184\n",
              " locality {\n",
              " }\n",
              " incarnation: 7059032659068372335\n",
              " physical_device_desc: \"device: XLA_CPU device\", name: \"/device:XLA_GPU:0\"\n",
              " device_type: \"XLA_GPU\"\n",
              " memory_limit: 17179869184\n",
              " locality {\n",
              " }\n",
              " incarnation: 5248782246054723814\n",
              " physical_device_desc: \"device: XLA_GPU device\", name: \"/device:GPU:0\"\n",
              " device_type: \"GPU\"\n",
              " memory_limit: 13860248000\n",
              " locality {\n",
              "   bus_id: 1\n",
              "   links {\n",
              "   }\n",
              " }\n",
              " incarnation: 7248923755845497142\n",
              " physical_device_desc: \"device: 0, name: Tesla T4, pci bus id: 0000:00:04.0, compute capability: 7.5\"]"
            ]
          },
          "metadata": {
            "tags": []
          },
          "execution_count": 43
        }
      ]
    },
    {
      "cell_type": "code",
      "metadata": {
        "id": "q7c2Xn6sHwO1",
        "colab": {
          "base_uri": "https://localhost:8080/",
          "height": 496
        },
        "outputId": "afb7263b-01aa-44d7-e80f-a9b72b820c38"
      },
      "source": [
        "data_clas.show_batch()"
      ],
      "execution_count": null,
      "outputs": [
        {
          "output_type": "stream",
          "text": [
            "/usr/local/lib/python3.6/dist-packages/fastai/text/data.py:339: UserWarning: This overload of nonzero is deprecated:\n",
            "\tnonzero()\n",
            "Consider using one of the following signatures instead:\n",
            "\tnonzero(*, bool as_tuple) (Triggered internally at  /pytorch/torch/csrc/utils/python_arg_parser.cpp:766.)\n",
            "  idx_min = (t != self.pad_idx).nonzero().min()\n"
          ],
          "name": "stderr"
        },
        {
          "output_type": "display_data",
          "data": {
            "text/html": [
              "<table border=\"1\" class=\"dataframe\">\n",
              "  <thead>\n",
              "    <tr style=\"text-align: right;\">\n",
              "      <th>text</th>\n",
              "      <th>target</th>\n",
              "    </tr>\n",
              "  </thead>\n",
              "  <tbody>\n",
              "    <tr>\n",
              "      <td>xxbos test curtis feedback issue dl dt url dt dd code dt browser dt dd code mozilla macintosh intel mac os x applewebkit khtml like gecko chrome safari code dd dt user dt dd code d d e c bd cde code dd dl hr h note h p test curtis feedback issue p h screenshot h inline image may get filtered out by github img src data image png</td>\n",
              "      <td>0</td>\n",
              "    </tr>\n",
              "    <tr>\n",
              "      <td>xxbos bug client segfaults on incorrect game data from remote server environment r freeorion version f fd d a c af e c ca b e a operating system gentoo linux amd client ubuntu x server graphic card used nvidia gtx ti fetched as delete lines below that don t apply compiled from source r description when joining to the server on remote machine i got error r warning addresssanitizer</td>\n",
              "      <td>0</td>\n",
              "    </tr>\n",
              "    <tr>\n",
              "      <td>xxbos group restricted user can t create or re modify host attributes expected behavior detail view modification of host object attributes with restricted user r current behavior modification view simply stops working or just shows plain error page r possible solution better error page with user has not appropriate rights to access modify this object or the correct modification of the host object r steps to reproduce for bugs members</td>\n",
              "      <td>0</td>\n",
              "    </tr>\n",
              "    <tr>\n",
              "      <td>xxbos stripecontroller events stripe invalidrequesterror no such event evt xxunk p xxunk aj a similar object exists in test mode but a live mode key was used to make this request table tr th exception th td status request req p xxunk shd no such event evt xxunk p xxunk aj a similar object exists in test mode but a live mode key was used to make this request td</td>\n",
              "      <td>0</td>\n",
              "    </tr>\n",
              "    <tr>\n",
              "      <td>xxbos studio page error when editing catalog page in headless store bp create a new site using the headless store bp edit the store catalog by clicking on edit in the context nav or by right clicking on catalog under the example store and selecting edit r screen shot at am r change the title in the example below i added an s to the word catalog in the title</td>\n",
              "      <td>0</td>\n",
              "    </tr>\n",
              "  </tbody>\n",
              "</table>"
            ],
            "text/plain": [
              "<IPython.core.display.HTML object>"
            ]
          },
          "metadata": {
            "tags": []
          }
        }
      ]
    },
    {
      "cell_type": "code",
      "metadata": {
        "id": "TsQUqbu6Hwfa",
        "colab": {
          "base_uri": "https://localhost:8080/",
          "height": 34
        },
        "outputId": "ae5c374b-f978-45de-e4a6-7c1579bc2afc"
      },
      "source": [
        "learn = language_model_learner(data_lm, AWD_LSTM, drop_mult=0.3)"
      ],
      "execution_count": null,
      "outputs": [
        {
          "output_type": "stream",
          "text": [
            "Downloading https://s3.amazonaws.com/fast-ai-modelzoo/wt103-fwd.tgz\n"
          ],
          "name": "stdout"
        },
        {
          "output_type": "display_data",
          "data": {
            "text/html": [
              ""
            ],
            "text/plain": [
              "<IPython.core.display.HTML object>"
            ]
          },
          "metadata": {
            "tags": []
          }
        }
      ]
    },
    {
      "cell_type": "code",
      "metadata": {
        "id": "8lq9IvfAHwwK",
        "colab": {
          "base_uri": "https://localhost:8080/",
          "height": 408
        },
        "outputId": "009478aa-b0f0-4cf5-c099-dd4238dd4f1f"
      },
      "source": [
        "learn.lr_find()\n",
        "learn.recorder.plot(suggestion=True)\n",
        "min_grad_lr = learn.recorder.min_grad_lr"
      ],
      "execution_count": null,
      "outputs": [
        {
          "output_type": "display_data",
          "data": {
            "text/html": [
              "\n",
              "    <div>\n",
              "        <style>\n",
              "            /* Turns off some styling */\n",
              "            progress {\n",
              "                /* gets rid of default border in Firefox and Opera. */\n",
              "                border: none;\n",
              "                /* Needs to be in here for Safari polyfill so background images work as expected. */\n",
              "                background-size: auto;\n",
              "            }\n",
              "            .progress-bar-interrupted, .progress-bar-interrupted::-webkit-progress-bar {\n",
              "                background: #F44336;\n",
              "            }\n",
              "        </style>\n",
              "      <progress value='0' class='' max='1' style='width:300px; height:20px; vertical-align: middle;'></progress>\n",
              "      0.00% [0/1 00:00<00:00]\n",
              "    </div>\n",
              "    \n",
              "<table border=\"1\" class=\"dataframe\">\n",
              "  <thead>\n",
              "    <tr style=\"text-align: left;\">\n",
              "      <th>epoch</th>\n",
              "      <th>train_loss</th>\n",
              "      <th>valid_loss</th>\n",
              "      <th>accuracy</th>\n",
              "      <th>time</th>\n",
              "    </tr>\n",
              "  </thead>\n",
              "  <tbody>\n",
              "  </tbody>\n",
              "</table><p>\n",
              "\n",
              "    <div>\n",
              "        <style>\n",
              "            /* Turns off some styling */\n",
              "            progress {\n",
              "                /* gets rid of default border in Firefox and Opera. */\n",
              "                border: none;\n",
              "                /* Needs to be in here for Safari polyfill so background images work as expected. */\n",
              "                background-size: auto;\n",
              "            }\n",
              "            .progress-bar-interrupted, .progress-bar-interrupted::-webkit-progress-bar {\n",
              "                background: #F44336;\n",
              "            }\n",
              "        </style>\n",
              "      <progress value='99' class='' max='6776' style='width:300px; height:20px; vertical-align: middle;'></progress>\n",
              "      1.46% [99/6776 00:36<40:29 13.5332]\n",
              "    </div>\n",
              "    "
            ],
            "text/plain": [
              "<IPython.core.display.HTML object>"
            ]
          },
          "metadata": {
            "tags": []
          }
        },
        {
          "output_type": "stream",
          "text": [
            "LR Finder is complete, type {learner_name}.recorder.plot() to see the graph.\n",
            "Min numerical gradient: 1.58E-02\n",
            "Min loss divided by 10: 3.02E-02\n"
          ],
          "name": "stdout"
        },
        {
          "output_type": "display_data",
          "data": {
            "image/png": "[encoded data removed]",
            "text/plain": [
              "<Figure size 432x288 with 1 Axes>"
            ]
          },
          "metadata": {
            "tags": [],
            "needs_background": "light"
          }
        }
      ]
    },
    {
      "cell_type": "code",
      "metadata": {
        "id": "CVjPM0k_HxCT",
        "colab": {
          "base_uri": "https://localhost:8080/",
          "height": 173
        },
        "outputId": "61ee45ab-d873-4d38-b13c-ca8308cbd307"
      },
      "source": [
        "learn.fit_one_cycle(4, min_grad_lr)"
      ],
      "execution_count": null,
      "outputs": [
        {
          "output_type": "display_data",
          "data": {
            "text/html": [
              "<table border=\"1\" class=\"dataframe\">\n",
              "  <thead>\n",
              "    <tr style=\"text-align: left;\">\n",
              "      <th>epoch</th>\n",
              "      <th>train_loss</th>\n",
              "      <th>valid_loss</th>\n",
              "      <th>accuracy</th>\n",
              "      <th>time</th>\n",
              "    </tr>\n",
              "  </thead>\n",
              "  <tbody>\n",
              "    <tr>\n",
              "      <td>0</td>\n",
              "      <td>5.550703</td>\n",
              "      <td>5.370500</td>\n",
              "      <td>0.190683</td>\n",
              "      <td>50:29</td>\n",
              "    </tr>\n",
              "    <tr>\n",
              "      <td>1</td>\n",
              "      <td>5.515713</td>\n",
              "      <td>5.312184</td>\n",
              "      <td>0.195009</td>\n",
              "      <td>50:37</td>\n",
              "    </tr>\n",
              "    <tr>\n",
              "      <td>2</td>\n",
              "      <td>5.429603</td>\n",
              "      <td>5.149321</td>\n",
              "      <td>0.205997</td>\n",
              "      <td>50:42</td>\n",
              "    </tr>\n",
              "    <tr>\n",
              "      <td>3</td>\n",
              "      <td>5.338122</td>\n",
              "      <td>5.079990</td>\n",
              "      <td>0.211696</td>\n",
              "      <td>50:45</td>\n",
              "    </tr>\n",
              "  </tbody>\n",
              "</table>"
            ],
            "text/plain": [
              "<IPython.core.display.HTML object>"
            ]
          },
          "metadata": {
            "tags": []
          }
        }
      ]
    },
    {
      "cell_type": "code",
      "metadata": {
        "id": "OFUP15uySxnI",
        "colab": {
          "base_uri": "https://localhost:8080/",
          "height": 35
        },
        "outputId": "5f4b4928-73f5-4bda-cfe4-d8439a0c9903"
      },
      "source": [
        "learn.predict(\"this is not working\", n_words=10)"
      ],
      "execution_count": null,
      "outputs": [
        {
          "output_type": "execute_result",
          "data": {
            "application/vnd.google.colaboratory.intrinsic+json": {
              "type": "string"
            },
            "text/plain": [
              "'this is not working if this is present in the catalog results xxbos defect'"
            ]
          },
          "metadata": {
            "tags": []
          },
          "execution_count": 48
        }
      ]
    },
    {
      "cell_type": "code",
      "metadata": {
        "id": "K96oMXPHSyJT"
      },
      "source": [
        "learn.save_encoder('ft_enc_v3')"
      ],
      "execution_count": null,
      "outputs": []
    },
    {
      "cell_type": "code",
      "metadata": {
        "id": "k8tOfA3fSyZj",
        "colab": {
          "base_uri": "https://localhost:8080/",
          "height": 1000
        },
        "outputId": "ab4f9913-0b1b-47a7-c241-d8258f2f9a73"
      },
      "source": [
        "learn = text_classifier_learner(data_clas, AWD_LSTM, drop_mult=0.5)\n",
        "learn.load_encoder('ft_enc_v3')"
      ],
      "execution_count": null,
      "outputs": [
        {
          "output_type": "execute_result",
          "data": {
            "text/plain": [
              "RNNLearner(data=TextClasDataBunch;\n",
              "\n",
              "Train: LabelList (360000 items)\n",
              "x: TextList\n",
              "xxbos as an operator i want to deploy cf deployment with an ops file that causes cc uaa and bbs to use rds as their datastore story i d one rds or several mirrors story submitted on dec utc requester david sabeti estimate,xxbos invalid time axis of iso strings gets lost reported by steven c hankin on dec utc in this data set ferret recognizes that the time axis is invalid and substitutes an array of indices but it does not off the string variable array as a dependent variable as it should yes use note if no missing value or fillvalue attribute on variables will use nan yes show data currently set data sets default name title i j k l time crw dhw twice weekly global km xxunk crw hotspot twice weekly global km xxunk crw sst twice weekly global km xxunk crw xxunk twice weekly global km xxunk surface flag pixel characteristics flag xxunk yes show axis time name axis pts start end time axis span to cell edges the cdl of the time axis looks like this ncdump h netcdf dhw dimensions latitude longitude xxunk time variables float longitude longitude longitude long name longitude longitude units degrees east longitude standard name longitude float latitude latitude latitude long name latitude latitude units degrees north latitude standard name latitude char time time xxunk time xxunk time time standard name time short crw dhw time latitude longitude crw dhw long name twice weekly global km satellite coral bleaching degree heating weeks crw dhw units celsius weeks if ferret offered the string as a dependent variable as it should then a function could be used to convert the dates into valid time words migrated from,xxbos comments within closures causing odd behavior on parenthesis got latest version before checking this one r for view in views hide either the wrapper view or the label if view is nil t view self hidden text xxunk false r that is how the code formats on save with the view self being indented another step r i ve moved the comment above the for loop but figured i d report the stuff i found since you ve been so great at maintaining this and very responsive r keep up the hard work,xxbos make org specific landing pages change the general donation link to include the campaign details on the xxunk form,xxbos update job content some jobs have extra whitespace at the end we should update these in workable r img width alt screenshot src r\n",
              "y: CategoryList\n",
              "1,0,0,1,1\n",
              "Path: .;\n",
              "\n",
              "Valid: LabelList (90000 items)\n",
              "x: TextList\n",
              "xxbos struct of look i can t find any information about look struct in source files if anyone can find this it would help to continue packets r it s struct embedded in character info,xxbos manager component in one xxunk is affecting all xxunk dean has an example that he will attach,xxbos add built in functions to perform cidr math admission control policies that constrain the attributes of network policies are an obvious use case for opa to improve the user experience for policy authors we should add built in functions to perform cidr math r for example r net cidr overlap x y output net cidr xxunk parent child output r cidr overlap returns true if cidr x overlaps with cidr y cidr xxunk returns true if child is a subnet of parent,xxbos bike mode option broken picking the bike mode option selector results in a trip plan error,xxbos page shows when all addons in the second page are deleted describe the problem and steps to reproduce it editing a collection an existing collection having more than addons in a collection so that the pagination shows up go to the second page and delete them all r what happened it shows page not found r what did you expect to happen ideally it should be redirected to previous page page in this case r xxunk r\n",
              "y: CategoryList\n",
              "2,0,1,0,0\n",
              "Path: .;\n",
              "\n",
              "Test: None, model=SequentialRNN(\n",
              "  (0): MultiBatchEncoder(\n",
              "    (module): AWD_LSTM(\n",
              "      (encoder): Embedding(60000, 400, padding_idx=1)\n",
              "      (encoder_dp): EmbeddingDropout(\n",
              "        (emb): Embedding(60000, 400, padding_idx=1)\n",
              "      )\n",
              "      (rnns): ModuleList(\n",
              "        (0): WeightDropout(\n",
              "          (module): LSTM(400, 1152, batch_first=True)\n",
              "        )\n",
              "        (1): WeightDropout(\n",
              "          (module): LSTM(1152, 1152, batch_first=True)\n",
              "        )\n",
              "        (2): WeightDropout(\n",
              "          (module): LSTM(1152, 400, batch_first=True)\n",
              "        )\n",
              "      )\n",
              "      (input_dp): RNNDropout()\n",
              "      (hidden_dps): ModuleList(\n",
              "        (0): RNNDropout()\n",
              "        (1): RNNDropout()\n",
              "        (2): RNNDropout()\n",
              "      )\n",
              "    )\n",
              "  )\n",
              "  (1): PoolingLinearClassifier(\n",
              "    (layers): Sequential(\n",
              "      (0): BatchNorm1d(1200, eps=1e-05, momentum=0.1, affine=True, track_running_stats=True)\n",
              "      (1): Dropout(p=0.2, inplace=False)\n",
              "      (2): Linear(in_features=1200, out_features=50, bias=True)\n",
              "      (3): ReLU(inplace=True)\n",
              "      (4): BatchNorm1d(50, eps=1e-05, momentum=0.1, affine=True, track_running_stats=True)\n",
              "      (5): Dropout(p=0.1, inplace=False)\n",
              "      (6): Linear(in_features=50, out_features=3, bias=True)\n",
              "    )\n",
              "  )\n",
              "), opt_func=functools.partial(<class 'torch.optim.adam.Adam'>, betas=(0.9, 0.99)), loss_func=FlattenedLoss of CrossEntropyLoss(), metrics=[<function accuracy at 0x7faab8a86620>], true_wd=True, bn_wd=True, wd=0.01, train_bn=True, path=PosixPath('.'), model_dir='models', callback_fns=[functools.partial(<class 'fastai.basic_train.Recorder'>, add_time=True, silent=False)], callbacks=[RNNTrainer\n",
              "learn: RNNLearner(data=TextClasDataBunch;\n",
              "\n",
              "Train: LabelList (360000 items)\n",
              "x: TextList\n",
              "xxbos as an operator i want to deploy cf deployment with an ops file that causes cc uaa and bbs to use rds as their datastore story i d one rds or several mirrors story submitted on dec utc requester david sabeti estimate,xxbos invalid time axis of iso strings gets lost reported by steven c hankin on dec utc in this data set ferret recognizes that the time axis is invalid and substitutes an array of indices but it does not off the string variable array as a dependent variable as it should yes use note if no missing value or fillvalue attribute on variables will use nan yes show data currently set data sets default name title i j k l time crw dhw twice weekly global km xxunk crw hotspot twice weekly global km xxunk crw sst twice weekly global km xxunk crw xxunk twice weekly global km xxunk surface flag pixel characteristics flag xxunk yes show axis time name axis pts start end time axis span to cell edges the cdl of the time axis looks like this ncdump h netcdf dhw dimensions latitude longitude xxunk time variables float longitude longitude longitude long name longitude longitude units degrees east longitude standard name longitude float latitude latitude latitude long name latitude latitude units degrees north latitude standard name latitude char time time xxunk time xxunk time time standard name time short crw dhw time latitude longitude crw dhw long name twice weekly global km satellite coral bleaching degree heating weeks crw dhw units celsius weeks if ferret offered the string as a dependent variable as it should then a function could be used to convert the dates into valid time words migrated from,xxbos comments within closures causing odd behavior on parenthesis got latest version before checking this one r for view in views hide either the wrapper view or the label if view is nil t view self hidden text xxunk false r that is how the code formats on save with the view self being indented another step r i ve moved the comment above the for loop but figured i d report the stuff i found since you ve been so great at maintaining this and very responsive r keep up the hard work,xxbos make org specific landing pages change the general donation link to include the campaign details on the xxunk form,xxbos update job content some jobs have extra whitespace at the end we should update these in workable r img width alt screenshot src r\n",
              "y: CategoryList\n",
              "1,0,0,1,1\n",
              "Path: .;\n",
              "\n",
              "Valid: LabelList (90000 items)\n",
              "x: TextList\n",
              "xxbos struct of look i can t find any information about look struct in source files if anyone can find this it would help to continue packets r it s struct embedded in character info,xxbos manager component in one xxunk is affecting all xxunk dean has an example that he will attach,xxbos add built in functions to perform cidr math admission control policies that constrain the attributes of network policies are an obvious use case for opa to improve the user experience for policy authors we should add built in functions to perform cidr math r for example r net cidr overlap x y output net cidr xxunk parent child output r cidr overlap returns true if cidr x overlaps with cidr y cidr xxunk returns true if child is a subnet of parent,xxbos bike mode option broken picking the bike mode option selector results in a trip plan error,xxbos page shows when all addons in the second page are deleted describe the problem and steps to reproduce it editing a collection an existing collection having more than addons in a collection so that the pagination shows up go to the second page and delete them all r what happened it shows page not found r what did you expect to happen ideally it should be redirected to previous page page in this case r xxunk r\n",
              "y: CategoryList\n",
              "2,0,1,0,0\n",
              "Path: .;\n",
              "\n",
              "Test: None, model=SequentialRNN(\n",
              "  (0): MultiBatchEncoder(\n",
              "    (module): AWD_LSTM(\n",
              "      (encoder): Embedding(60000, 400, padding_idx=1)\n",
              "      (encoder_dp): EmbeddingDropout(\n",
              "        (emb): Embedding(60000, 400, padding_idx=1)\n",
              "      )\n",
              "      (rnns): ModuleList(\n",
              "        (0): WeightDropout(\n",
              "          (module): LSTM(400, 1152, batch_first=True)\n",
              "        )\n",
              "        (1): WeightDropout(\n",
              "          (module): LSTM(1152, 1152, batch_first=True)\n",
              "        )\n",
              "        (2): WeightDropout(\n",
              "          (module): LSTM(1152, 400, batch_first=True)\n",
              "        )\n",
              "      )\n",
              "      (input_dp): RNNDropout()\n",
              "      (hidden_dps): ModuleList(\n",
              "        (0): RNNDropout()\n",
              "        (1): RNNDropout()\n",
              "        (2): RNNDropout()\n",
              "      )\n",
              "    )\n",
              "  )\n",
              "  (1): PoolingLinearClassifier(\n",
              "    (layers): Sequential(\n",
              "      (0): BatchNorm1d(1200, eps=1e-05, momentum=0.1, affine=True, track_running_stats=True)\n",
              "      (1): Dropout(p=0.2, inplace=False)\n",
              "      (2): Linear(in_features=1200, out_features=50, bias=True)\n",
              "      (3): ReLU(inplace=True)\n",
              "      (4): BatchNorm1d(50, eps=1e-05, momentum=0.1, affine=True, track_running_stats=True)\n",
              "      (5): Dropout(p=0.1, inplace=False)\n",
              "      (6): Linear(in_features=50, out_features=3, bias=True)\n",
              "    )\n",
              "  )\n",
              "), opt_func=functools.partial(<class 'torch.optim.adam.Adam'>, betas=(0.9, 0.99)), loss_func=FlattenedLoss of CrossEntropyLoss(), metrics=[<function accuracy at 0x7faab8a86620>], true_wd=True, bn_wd=True, wd=0.01, train_bn=True, path=PosixPath('.'), model_dir='models', callback_fns=[functools.partial(<class 'fastai.basic_train.Recorder'>, add_time=True, silent=False)], callbacks=[...], layer_groups=[Sequential(\n",
              "  (0): Embedding(60000, 400, padding_idx=1)\n",
              "  (1): EmbeddingDropout(\n",
              "    (emb): Embedding(60000, 400, padding_idx=1)\n",
              "  )\n",
              "), Sequential(\n",
              "  (0): WeightDropout(\n",
              "    (module): LSTM(400, 1152, batch_first=True)\n",
              "  )\n",
              "  (1): RNNDropout()\n",
              "), Sequential(\n",
              "  (0): WeightDropout(\n",
              "    (module): LSTM(1152, 1152, batch_first=True)\n",
              "  )\n",
              "  (1): RNNDropout()\n",
              "), Sequential(\n",
              "  (0): WeightDropout(\n",
              "    (module): LSTM(1152, 400, batch_first=True)\n",
              "  )\n",
              "  (1): RNNDropout()\n",
              "), Sequential(\n",
              "  (0): PoolingLinearClassifier(\n",
              "    (layers): Sequential(\n",
              "      (0): BatchNorm1d(1200, eps=1e-05, momentum=0.1, affine=True, track_running_stats=True)\n",
              "      (1): Dropout(p=0.2, inplace=False)\n",
              "      (2): Linear(in_features=1200, out_features=50, bias=True)\n",
              "      (3): ReLU(inplace=True)\n",
              "      (4): BatchNorm1d(50, eps=1e-05, momentum=0.1, affine=True, track_running_stats=True)\n",
              "      (5): Dropout(p=0.1, inplace=False)\n",
              "      (6): Linear(in_features=50, out_features=3, bias=True)\n",
              "    )\n",
              "  )\n",
              ")], add_time=True, silent=False)\n",
              "alpha: 2.0\n",
              "beta: 1.0], layer_groups=[Sequential(\n",
              "  (0): Embedding(60000, 400, padding_idx=1)\n",
              "  (1): EmbeddingDropout(\n",
              "    (emb): Embedding(60000, 400, padding_idx=1)\n",
              "  )\n",
              "), Sequential(\n",
              "  (0): WeightDropout(\n",
              "    (module): LSTM(400, 1152, batch_first=True)\n",
              "  )\n",
              "  (1): RNNDropout()\n",
              "), Sequential(\n",
              "  (0): WeightDropout(\n",
              "    (module): LSTM(1152, 1152, batch_first=True)\n",
              "  )\n",
              "  (1): RNNDropout()\n",
              "), Sequential(\n",
              "  (0): WeightDropout(\n",
              "    (module): LSTM(1152, 400, batch_first=True)\n",
              "  )\n",
              "  (1): RNNDropout()\n",
              "), Sequential(\n",
              "  (0): PoolingLinearClassifier(\n",
              "    (layers): Sequential(\n",
              "      (0): BatchNorm1d(1200, eps=1e-05, momentum=0.1, affine=True, track_running_stats=True)\n",
              "      (1): Dropout(p=0.2, inplace=False)\n",
              "      (2): Linear(in_features=1200, out_features=50, bias=True)\n",
              "      (3): ReLU(inplace=True)\n",
              "      (4): BatchNorm1d(50, eps=1e-05, momentum=0.1, affine=True, track_running_stats=True)\n",
              "      (5): Dropout(p=0.1, inplace=False)\n",
              "      (6): Linear(in_features=50, out_features=3, bias=True)\n",
              "    )\n",
              "  )\n",
              ")], add_time=True, silent=False)"
            ]
          },
          "metadata": {
            "tags": []
          },
          "execution_count": 50
        }
      ]
    },
    {
      "cell_type": "code",
      "metadata": {
        "id": "kL_wI6RoSyqi",
        "colab": {
          "base_uri": "https://localhost:8080/",
          "height": 408
        },
        "outputId": "08faee2c-1087-4889-fc7e-42aeef38c718"
      },
      "source": [
        "learn.lr_find()\n",
        "learn.recorder.plot(suggestion=True)\n",
        "min_grad_lr = learn.recorder.min_grad_lr"
      ],
      "execution_count": null,
      "outputs": [
        {
          "output_type": "display_data",
          "data": {
            "text/html": [
              "\n",
              "    <div>\n",
              "        <style>\n",
              "            /* Turns off some styling */\n",
              "            progress {\n",
              "                /* gets rid of default border in Firefox and Opera. */\n",
              "                border: none;\n",
              "                /* Needs to be in here for Safari polyfill so background images work as expected. */\n",
              "                background-size: auto;\n",
              "            }\n",
              "            .progress-bar-interrupted, .progress-bar-interrupted::-webkit-progress-bar {\n",
              "                background: #F44336;\n",
              "            }\n",
              "        </style>\n",
              "      <progress value='0' class='' max='1' style='width:300px; height:20px; vertical-align: middle;'></progress>\n",
              "      0.00% [0/1 00:00<00:00]\n",
              "    </div>\n",
              "    \n",
              "<table border=\"1\" class=\"dataframe\">\n",
              "  <thead>\n",
              "    <tr style=\"text-align: left;\">\n",
              "      <th>epoch</th>\n",
              "      <th>train_loss</th>\n",
              "      <th>valid_loss</th>\n",
              "      <th>accuracy</th>\n",
              "      <th>time</th>\n",
              "    </tr>\n",
              "  </thead>\n",
              "  <tbody>\n",
              "  </tbody>\n",
              "</table><p>\n",
              "\n",
              "    <div>\n",
              "        <style>\n",
              "            /* Turns off some styling */\n",
              "            progress {\n",
              "                /* gets rid of default border in Firefox and Opera. */\n",
              "                border: none;\n",
              "                /* Needs to be in here for Safari polyfill so background images work as expected. */\n",
              "                background-size: auto;\n",
              "            }\n",
              "            .progress-bar-interrupted, .progress-bar-interrupted::-webkit-progress-bar {\n",
              "                background: #F44336;\n",
              "            }\n",
              "        </style>\n",
              "      <progress value='95' class='' max='11250' style='width:300px; height:20px; vertical-align: middle;'></progress>\n",
              "      0.84% [95/11250 00:32<1:02:59 4.0552]\n",
              "    </div>\n",
              "    "
            ],
            "text/plain": [
              "<IPython.core.display.HTML object>"
            ]
          },
          "metadata": {
            "tags": []
          }
        },
        {
          "output_type": "stream",
          "text": [
            "LR Finder is complete, type {learner_name}.recorder.plot() to see the graph.\n",
            "Min numerical gradient: 6.31E-07\n",
            "Min loss divided by 10: 2.51E-02\n"
          ],
          "name": "stdout"
        },
        {
          "output_type": "display_data",
          "data": {
            "image/png": "[encoded data removed]",
            "text/plain": [
              "<Figure size 432x288 with 1 Axes>"
            ]
          },
          "metadata": {
            "tags": [],
            "needs_background": "light"
          }
        }
      ]
    },
    {
      "cell_type": "code",
      "metadata": {
        "id": "rXqWsYykTxWG",
        "colab": {
          "base_uri": "https://localhost:8080/",
          "height": 173
        },
        "outputId": "a911b097-f1b2-4d2f-80a2-4fd5c7c9e2c9"
      },
      "source": [
        "learn.fit_one_cycle(4, min_grad_lr)"
      ],
      "execution_count": null,
      "outputs": [
        {
          "output_type": "display_data",
          "data": {
            "text/html": [
              "<table border=\"1\" class=\"dataframe\">\n",
              "  <thead>\n",
              "    <tr style=\"text-align: left;\">\n",
              "      <th>epoch</th>\n",
              "      <th>train_loss</th>\n",
              "      <th>valid_loss</th>\n",
              "      <th>accuracy</th>\n",
              "      <th>time</th>\n",
              "    </tr>\n",
              "  </thead>\n",
              "  <tbody>\n",
              "    <tr>\n",
              "      <td>0</td>\n",
              "      <td>1.123663</td>\n",
              "      <td>1.065788</td>\n",
              "      <td>0.430367</td>\n",
              "      <td>14:45</td>\n",
              "    </tr>\n",
              "    <tr>\n",
              "      <td>1</td>\n",
              "      <td>1.041406</td>\n",
              "      <td>0.950430</td>\n",
              "      <td>0.559089</td>\n",
              "      <td>14:43</td>\n",
              "    </tr>\n",
              "    <tr>\n",
              "      <td>2</td>\n",
              "      <td>1.017347</td>\n",
              "      <td>0.917001</td>\n",
              "      <td>0.593389</td>\n",
              "      <td>14:42</td>\n",
              "    </tr>\n",
              "    <tr>\n",
              "      <td>3</td>\n",
              "      <td>0.999307</td>\n",
              "      <td>0.922770</td>\n",
              "      <td>0.586944</td>\n",
              "      <td>14:40</td>\n",
              "    </tr>\n",
              "  </tbody>\n",
              "</table>"
            ],
            "text/plain": [
              "<IPython.core.display.HTML object>"
            ]
          },
          "metadata": {
            "tags": []
          }
        }
      ]
    },
    {
      "cell_type": "code",
      "metadata": {
        "id": "iARSg-qeTxmS",
        "colab": {
          "base_uri": "https://localhost:8080/",
          "height": 279
        },
        "outputId": "af1b8241-a20d-4dbf-88dc-ded63a17f56d"
      },
      "source": [
        "learn.recorder.plot_losses()"
      ],
      "execution_count": null,
      "outputs": [
        {
          "output_type": "display_data",
          "data": {
            "image/png": "[encoded data removed]",
            "text/plain": [
              "<Figure size 432x288 with 1 Axes>"
            ]
          },
          "metadata": {
            "tags": [],
            "needs_background": "light"
          }
        }
      ]
    },
    {
      "cell_type": "code",
      "metadata": {
        "id": "GyTtrzPJTx2q",
        "colab": {
          "base_uri": "https://localhost:8080/",
          "height": 173
        },
        "outputId": "0f6bc430-7a0f-4529-f349-29999a5455f2"
      },
      "source": [
        "learn.freeze_to(-2)\n",
        "learn.fit_one_cycle(4, slice(5e-3, 2e-3), moms=(0.8,0.7))"
      ],
      "execution_count": null,
      "outputs": [
        {
          "output_type": "display_data",
          "data": {
            "text/html": [
              "<table border=\"1\" class=\"dataframe\">\n",
              "  <thead>\n",
              "    <tr style=\"text-align: left;\">\n",
              "      <th>epoch</th>\n",
              "      <th>train_loss</th>\n",
              "      <th>valid_loss</th>\n",
              "      <th>accuracy</th>\n",
              "      <th>time</th>\n",
              "    </tr>\n",
              "  </thead>\n",
              "  <tbody>\n",
              "    <tr>\n",
              "      <td>0</td>\n",
              "      <td>0.619223</td>\n",
              "      <td>0.531745</td>\n",
              "      <td>0.799644</td>\n",
              "      <td>17:19</td>\n",
              "    </tr>\n",
              "    <tr>\n",
              "      <td>1</td>\n",
              "      <td>0.563358</td>\n",
              "      <td>0.509742</td>\n",
              "      <td>0.812600</td>\n",
              "      <td>17:19</td>\n",
              "    </tr>\n",
              "    <tr>\n",
              "      <td>2</td>\n",
              "      <td>0.546374</td>\n",
              "      <td>0.485647</td>\n",
              "      <td>0.816633</td>\n",
              "      <td>17:19</td>\n",
              "    </tr>\n",
              "    <tr>\n",
              "      <td>3</td>\n",
              "      <td>0.539966</td>\n",
              "      <td>0.490344</td>\n",
              "      <td>0.818578</td>\n",
              "      <td>17:19</td>\n",
              "    </tr>\n",
              "  </tbody>\n",
              "</table>"
            ],
            "text/plain": [
              "<IPython.core.display.HTML object>"
            ]
          },
          "metadata": {
            "tags": []
          }
        }
      ]
    },
    {
      "cell_type": "code",
      "metadata": {
        "id": "o8akFrkeTyJ6",
        "colab": {
          "base_uri": "https://localhost:8080/",
          "height": 279
        },
        "outputId": "238cb884-eb8f-4429-fd63-ec939347a3e3"
      },
      "source": [
        "learn.recorder.plot_losses()"
      ],
      "execution_count": null,
      "outputs": [
        {
          "output_type": "display_data",
          "data": {
            "image/png": "[encoded data removed]",
            "text/plain": [
              "<Figure size 432x288 with 1 Axes>"
            ]
          },
          "metadata": {
            "tags": [],
            "needs_background": "light"
          }
        }
      ]
    },
    {
      "cell_type": "code",
      "metadata": {
        "id": "uBgWjQp1TyY9",
        "colab": {
          "base_uri": "https://localhost:8080/",
          "height": 143
        },
        "outputId": "2573751d-d196-481b-c9b8-6da8289ab912"
      },
      "source": [
        "learn.unfreeze()\n",
        "learn.fit_one_cycle(4, slice(2e-3/100, 2e-3), moms=(0.8,0.7))"
      ],
      "execution_count": null,
      "outputs": [
        {
          "output_type": "display_data",
          "data": {
            "text/html": [
              "\n",
              "    <div>\n",
              "        <style>\n",
              "            /* Turns off some styling */\n",
              "            progress {\n",
              "                /* gets rid of default border in Firefox and Opera. */\n",
              "                border: none;\n",
              "                /* Needs to be in here for Safari polyfill so background images work as expected. */\n",
              "                background-size: auto;\n",
              "            }\n",
              "            .progress-bar-interrupted, .progress-bar-interrupted::-webkit-progress-bar {\n",
              "                background: #F44336;\n",
              "            }\n",
              "        </style>\n",
              "      <progress value='1' class='' max='4' style='width:300px; height:20px; vertical-align: middle;'></progress>\n",
              "      25.00% [1/4 36:15<1:48:46]\n",
              "    </div>\n",
              "    \n",
              "<table border=\"1\" class=\"dataframe\">\n",
              "  <thead>\n",
              "    <tr style=\"text-align: left;\">\n",
              "      <th>epoch</th>\n",
              "      <th>train_loss</th>\n",
              "      <th>valid_loss</th>\n",
              "      <th>accuracy</th>\n",
              "      <th>time</th>\n",
              "    </tr>\n",
              "  </thead>\n",
              "  <tbody>\n",
              "    <tr>\n",
              "      <td>0</td>\n",
              "      <td>0.521008</td>\n",
              "      <td>0.476884</td>\n",
              "      <td>0.819167</td>\n",
              "      <td>36:15</td>\n",
              "    </tr>\n",
              "  </tbody>\n",
              "</table><p>\n",
              "\n",
              "    <div>\n",
              "        <style>\n",
              "            /* Turns off some styling */\n",
              "            progress {\n",
              "                /* gets rid of default border in Firefox and Opera. */\n",
              "                border: none;\n",
              "                /* Needs to be in here for Safari polyfill so background images work as expected. */\n",
              "                background-size: auto;\n",
              "            }\n",
              "            .progress-bar-interrupted, .progress-bar-interrupted::-webkit-progress-bar {\n",
              "                background: #F44336;\n",
              "            }\n",
              "        </style>\n",
              "      <progress value='7341' class='' max='11250' style='width:300px; height:20px; vertical-align: middle;'></progress>\n",
              "      65.25% [7341/11250 22:33<12:00 0.5318]\n",
              "    </div>\n",
              "    "
            ],
            "text/plain": [
              "<IPython.core.display.HTML object>"
            ]
          },
          "metadata": {
            "tags": []
          }
        },
        {
          "output_type": "stream",
          "text": [
            "Buffered data was truncated after reaching the output size limit."
          ],
          "name": "stdout"
        }
      ]
    },
    {
      "cell_type": "code",
      "metadata": {
        "id": "ot01p9fDnPkI",
        "colab": {
          "base_uri": "https://localhost:8080/",
          "height": 311
        },
        "outputId": "3bfd09a3-7eb2-4a0d-a205-10feaae7bc96"
      },
      "source": [
        "preds,y,losses = learn.get_preds(with_loss=True)\n",
        "interp = ClassificationInterpretation(learn, preds, y, losses)\n",
        "interp.plot_confusion_matrix()\n"
      ],
      "execution_count": null,
      "outputs": [
        {
          "output_type": "display_data",
          "data": {
            "text/html": [
              ""
            ],
            "text/plain": [
              "<IPython.core.display.HTML object>"
            ]
          },
          "metadata": {
            "tags": []
          }
        },
        {
          "output_type": "display_data",
          "data": {
            "image/png": "[encoded data removed]",
            "text/plain": [
              "<Figure size 432x288 with 1 Axes>"
            ]
          },
          "metadata": {
            "tags": [],
            "needs_background": "light"
          }
        }
      ]
    },
    {
      "cell_type": "code",
      "metadata": {
        "id": "JxhQXQjWnP0f",
        "colab": {
          "base_uri": "https://localhost:8080/",
          "height": 119
        },
        "outputId": "b73ad49b-98e7-490b-fef7-25cbd188ee07"
      },
      "source": [
        "interp.most_confused()"
      ],
      "execution_count": null,
      "outputs": [
        {
          "output_type": "execute_result",
          "data": {
            "text/plain": [
              "[(0, 1, 4628),\n",
              " (1, 0, 4488),\n",
              " (2, 0, 2337),\n",
              " (2, 1, 2287),\n",
              " (1, 2, 933),\n",
              " (0, 2, 642)]"
            ]
          },
          "metadata": {
            "tags": []
          },
          "execution_count": 58
        }
      ]
    },
    {
      "cell_type": "code",
      "metadata": {
        "id": "Q8v1u06JnQEC",
        "colab": {
          "base_uri": "https://localhost:8080/",
          "height": 34
        },
        "outputId": "5ca42057-d3a3-4b90-f16c-2783ab27f701"
      },
      "source": [
        "learn.predict(\"homebrew not working\")"
      ],
      "execution_count": null,
      "outputs": [
        {
          "output_type": "execute_result",
          "data": {
            "text/plain": [
              "(Category tensor(0), tensor(0), tensor([0.8512, 0.0299, 0.1189]))"
            ]
          },
          "metadata": {
            "tags": []
          },
          "execution_count": 59
        }
      ]
    },
    {
      "cell_type": "code",
      "metadata": {
        "id": "mFYgMH39nQUq"
      },
      "source": [
        "learn.export()"
      ],
      "execution_count": null,
      "outputs": []
    },
    {
      "cell_type": "code",
      "metadata": {
        "id": "oxrrmtWVoFaa"
      },
      "source": [
        "learn.export('/content/drive/My Drive/ml/github/ULMFiT_classifier_model_extra_train_v3.pkl')\n"
      ],
      "execution_count": null,
      "outputs": []
    },
    {
      "cell_type": "code",
      "metadata": {
        "id": "CgHdcsS1oFrq"
      },
      "source": [
        "my_path = learn.path"
      ],
      "execution_count": null,
      "outputs": []
    },
    {
      "cell_type": "code",
      "metadata": {
        "id": "EOGl3UW6oF86",
        "colab": {
          "base_uri": "https://localhost:8080/",
          "height": 34
        },
        "outputId": "b4dfc25a-9ac2-4027-8b24-d03a4346a301"
      },
      "source": [
        "my_path"
      ],
      "execution_count": null,
      "outputs": [
        {
          "output_type": "execute_result",
          "data": {
            "text/plain": [
              "PosixPath('.')"
            ]
          },
          "metadata": {
            "tags": []
          },
          "execution_count": 63
        }
      ]
    },
    {
      "cell_type": "code",
      "metadata": {
        "id": "nAgUM2AAoGMq",
        "colab": {
          "base_uri": "https://localhost:8080/",
          "height": 17
        },
        "outputId": "35963472-00a8-4ef1-808a-5ed622ad545c"
      },
      "source": [
        "my_learn = load_learner(\"/content/drive/My Drive/ml/github/\", 'ULMFiT_classifier_model_extra_train_v3.pkl')"
      ],
      "execution_count": null,
      "outputs": [
        {
          "output_type": "display_data",
          "data": {
            "text/html": [
              ""
            ],
            "text/plain": [
              "<IPython.core.display.HTML object>"
            ]
          },
          "metadata": {
            "tags": []
          }
        },
        {
          "output_type": "display_data",
          "data": {
            "text/html": [
              ""
            ],
            "text/plain": [
              "<IPython.core.display.HTML object>"
            ]
          },
          "metadata": {
            "tags": []
          }
        }
      ]
    },
    {
      "cell_type": "code",
      "metadata": {
        "id": "4I948cbqo0jo"
      },
      "source": [
        "pred1 = my_learn.predict(\"How to merge two columns on pandas dataframe\")"
      ],
      "execution_count": null,
      "outputs": []
    },
    {
      "cell_type": "code",
      "metadata": {
        "id": "ILArOp5Po05L",
        "colab": {
          "base_uri": "https://localhost:8080/",
          "height": 34
        },
        "outputId": "5d73719b-0527-49dd-f052-1744b4001465"
      },
      "source": [
        "type(pred1)\n",
        "print(pred1)"
      ],
      "execution_count": null,
      "outputs": [
        {
          "output_type": "stream",
          "text": [
            "(Category tensor(2), tensor(2), tensor([0.0330, 0.3387, 0.6283]))\n"
          ],
          "name": "stdout"
        }
      ]
    },
    {
      "cell_type": "markdown",
      "metadata": {
        "id": "5r9l1qA3z2ud"
      },
      "source": [
        "# **Prepare Test data to run prediction**"
      ]
    },
    {
      "cell_type": "code",
      "metadata": {
        "id": "-hgnfBEyzx2P"
      },
      "source": [
        "test['body'] = test['body'].apply(remove_url)\n",
        "#test['body'] = test['body'].astype('str') \n",
        "#test['body'] = test['body'].str.replace(\"\\\\r\",\"\")\n",
        "test['body'] = test['body'].str.replace(\"[^a-zA-Z]\", \" \")\n",
        "test['body'] = test['body'].apply(replace_r)\n",
        "test['body'] = test['body'].apply(remove_whitespace)\n",
        "test['title'] = test['title'].apply(remove_url)\n",
        "test['title'] = test['title'].str.replace(\"[^a-zA-Z]\", \" \")\n",
        "test['title'] = test['title'].apply(replace_r)\n",
        "test['title'] = test['title'].apply(remove_whitespace)\n",
        "test[\"text\"] = test[\"title\"] + test[\"body\"]\n",
        "test = test.drop(['title', 'body'], axis=1)\n",
        "\n"
      ],
      "execution_count": null,
      "outputs": []
    },
    {
      "cell_type": "code",
      "metadata": {
        "id": "jlMSgkrWzyVj",
        "colab": {
          "base_uri": "https://localhost:8080/",
          "height": 419
        },
        "outputId": "2fde07dc-975b-40aa-936f-39fe566b4df3"
      },
      "source": [
        "test"
      ],
      "execution_count": null,
      "outputs": [
        {
          "output_type": "execute_result",
          "data": {
            "text/html": [
              "<div>\n",
              "<style scoped>\n",
              "    .dataframe tbody tr th:only-of-type {\n",
              "        vertical-align: middle;\n",
              "    }\n",
              "\n",
              "    .dataframe tbody tr th {\n",
              "        vertical-align: top;\n",
              "    }\n",
              "\n",
              "    .dataframe thead th {\n",
              "        text-align: right;\n",
              "    }\n",
              "</style>\n",
              "<table border=\"1\" class=\"dataframe\">\n",
              "  <thead>\n",
              "    <tr style=\"text-align: right;\">\n",
              "      <th></th>\n",
              "      <th>text</th>\n",
              "    </tr>\n",
              "  </thead>\n",
              "  <tbody>\n",
              "    <tr>\n",
              "      <th>0</th>\n",
              "      <td>config question path specific environment vari...</td>\n",
              "    </tr>\n",
              "    <tr>\n",
              "      <th>1</th>\n",
              "      <td>crash indien volde simulator crasht als hij vo...</td>\n",
              "    </tr>\n",
              "    <tr>\n",
              "      <th>2</th>\n",
              "      <td>unable to mine rockssarkasmo starting today wh...</td>\n",
              "    </tr>\n",
              "    <tr>\n",
              "      <th>3</th>\n",
              "      <td>not all whitelists are processedcreate followi...</td>\n",
              "    </tr>\n",
              "    <tr>\n",
              "      <th>4</th>\n",
              "      <td>add ctx menu for idafree and idafreeassociated...</td>\n",
              "    </tr>\n",
              "    <tr>\n",
              "      <th>...</th>\n",
              "      <td>...</td>\n",
              "    </tr>\n",
              "    <tr>\n",
              "      <th>29995</th>\n",
              "      <td>closing a project with running simulations doe...</td>\n",
              "    </tr>\n",
              "    <tr>\n",
              "      <th>29996</th>\n",
              "      <td>missing table description on db db iseries as ...</td>\n",
              "    </tr>\n",
              "    <tr>\n",
              "      <th>29997</th>\n",
              "      <td>cases when notification should be shownnew mes...</td>\n",
              "    </tr>\n",
              "    <tr>\n",
              "      <th>29998</th>\n",
              "      <td>ip errors in idea client when syncingi see the...</td>\n",
              "    </tr>\n",
              "    <tr>\n",
              "      <th>29999</th>\n",
              "      <td>portable open system pharmacology versionhello...</td>\n",
              "    </tr>\n",
              "  </tbody>\n",
              "</table>\n",
              "<p>30000 rows × 1 columns</p>\n",
              "</div>"
            ],
            "text/plain": [
              "                                                    text\n",
              "0      config question path specific environment vari...\n",
              "1      crash indien volde simulator crasht als hij vo...\n",
              "2      unable to mine rockssarkasmo starting today wh...\n",
              "3      not all whitelists are processedcreate followi...\n",
              "4      add ctx menu for idafree and idafreeassociated...\n",
              "...                                                  ...\n",
              "29995  closing a project with running simulations doe...\n",
              "29996  missing table description on db db iseries as ...\n",
              "29997  cases when notification should be shownnew mes...\n",
              "29998  ip errors in idea client when syncingi see the...\n",
              "29999  portable open system pharmacology versionhello...\n",
              "\n",
              "[30000 rows x 1 columns]"
            ]
          },
          "metadata": {
            "tags": []
          },
          "execution_count": 68
        }
      ]
    },
    {
      "cell_type": "markdown",
      "metadata": {
        "id": "r8gwtqoH0RjL"
      },
      "source": [
        "## Run the predictions"
      ]
    },
    {
      "cell_type": "code",
      "metadata": {
        "id": "eo9kSxxQzymi"
      },
      "source": [
        "test['prediction'] = test['text'].apply(lambda row: str(my_learn.predict(row)[0]))"
      ],
      "execution_count": null,
      "outputs": []
    },
    {
      "cell_type": "code",
      "metadata": {
        "id": "EBaClpiyzy3y",
        "colab": {
          "base_uri": "https://localhost:8080/",
          "height": 419
        },
        "outputId": "e04a1e99-b698-4826-e35c-48509780f284"
      },
      "source": [
        "test"
      ],
      "execution_count": null,
      "outputs": [
        {
          "output_type": "execute_result",
          "data": {
            "text/html": [
              "<div>\n",
              "<style scoped>\n",
              "    .dataframe tbody tr th:only-of-type {\n",
              "        vertical-align: middle;\n",
              "    }\n",
              "\n",
              "    .dataframe tbody tr th {\n",
              "        vertical-align: top;\n",
              "    }\n",
              "\n",
              "    .dataframe thead th {\n",
              "        text-align: right;\n",
              "    }\n",
              "</style>\n",
              "<table border=\"1\" class=\"dataframe\">\n",
              "  <thead>\n",
              "    <tr style=\"text-align: right;\">\n",
              "      <th></th>\n",
              "      <th>text</th>\n",
              "      <th>prediction</th>\n",
              "    </tr>\n",
              "  </thead>\n",
              "  <tbody>\n",
              "    <tr>\n",
              "      <th>0</th>\n",
              "      <td>config question path specific environment vari...</td>\n",
              "      <td>2</td>\n",
              "    </tr>\n",
              "    <tr>\n",
              "      <th>1</th>\n",
              "      <td>crash indien volde simulator crasht als hij vo...</td>\n",
              "      <td>0</td>\n",
              "    </tr>\n",
              "    <tr>\n",
              "      <th>2</th>\n",
              "      <td>unable to mine rockssarkasmo starting today wh...</td>\n",
              "      <td>0</td>\n",
              "    </tr>\n",
              "    <tr>\n",
              "      <th>3</th>\n",
              "      <td>not all whitelists are processedcreate followi...</td>\n",
              "      <td>0</td>\n",
              "    </tr>\n",
              "    <tr>\n",
              "      <th>4</th>\n",
              "      <td>add ctx menu for idafree and idafreeassociated...</td>\n",
              "      <td>1</td>\n",
              "    </tr>\n",
              "    <tr>\n",
              "      <th>...</th>\n",
              "      <td>...</td>\n",
              "      <td>...</td>\n",
              "    </tr>\n",
              "    <tr>\n",
              "      <th>29995</th>\n",
              "      <td>closing a project with running simulations doe...</td>\n",
              "      <td>0</td>\n",
              "    </tr>\n",
              "    <tr>\n",
              "      <th>29996</th>\n",
              "      <td>missing table description on db db iseries as ...</td>\n",
              "      <td>0</td>\n",
              "    </tr>\n",
              "    <tr>\n",
              "      <th>29997</th>\n",
              "      <td>cases when notification should be shownnew mes...</td>\n",
              "      <td>0</td>\n",
              "    </tr>\n",
              "    <tr>\n",
              "      <th>29998</th>\n",
              "      <td>ip errors in idea client when syncingi see the...</td>\n",
              "      <td>0</td>\n",
              "    </tr>\n",
              "    <tr>\n",
              "      <th>29999</th>\n",
              "      <td>portable open system pharmacology versionhello...</td>\n",
              "      <td>1</td>\n",
              "    </tr>\n",
              "  </tbody>\n",
              "</table>\n",
              "<p>30000 rows × 2 columns</p>\n",
              "</div>"
            ],
            "text/plain": [
              "                                                    text prediction\n",
              "0      config question path specific environment vari...          2\n",
              "1      crash indien volde simulator crasht als hij vo...          0\n",
              "2      unable to mine rockssarkasmo starting today wh...          0\n",
              "3      not all whitelists are processedcreate followi...          0\n",
              "4      add ctx menu for idafree and idafreeassociated...          1\n",
              "...                                                  ...        ...\n",
              "29995  closing a project with running simulations doe...          0\n",
              "29996  missing table description on db db iseries as ...          0\n",
              "29997  cases when notification should be shownnew mes...          0\n",
              "29998  ip errors in idea client when syncingi see the...          0\n",
              "29999  portable open system pharmacology versionhello...          1\n",
              "\n",
              "[30000 rows x 2 columns]"
            ]
          },
          "metadata": {
            "tags": []
          },
          "execution_count": 70
        }
      ]
    },
    {
      "cell_type": "code",
      "metadata": {
        "id": "rTNOeDgFzzSJ",
        "colab": {
          "base_uri": "https://localhost:8080/",
          "height": 267
        },
        "outputId": "5bedcfcd-55ff-408d-b509-4c6f4f28cee3"
      },
      "source": [
        "test['prediction'].value_counts().plot.bar(rot=30);\n"
      ],
      "execution_count": null,
      "outputs": [
        {
          "output_type": "display_data",
          "data": {
            "image/png": "[encoded data removed]",
            "text/plain": [
              "<Figure size 432x288 with 1 Axes>"
            ]
          },
          "metadata": {
            "tags": [],
            "needs_background": "light"
          }
        }
      ]
    },
    {
      "cell_type": "code",
      "metadata": {
        "id": "k1xWKnHbzzk9"
      },
      "source": [
        "test.to_csv('/content/drive/My Drive/ml/github/prediction_extra_train_V3.csv')"
      ],
      "execution_count": null,
      "outputs": []
    },
    {
      "cell_type": "code",
      "metadata": {
        "id": "mR4hKbebzz2f"
      },
      "source": [
        "test = test.rename(columns={'prediction': 'label'})"
      ],
      "execution_count": null,
      "outputs": []
    },
    {
      "cell_type": "code",
      "metadata": {
        "id": "Iw3slsRSRQ30",
        "colab": {
          "base_uri": "https://localhost:8080/",
          "height": 419
        },
        "outputId": "3b14fb62-ac1c-445f-faaf-75900ae50dfb"
      },
      "source": [
        "test"
      ],
      "execution_count": null,
      "outputs": [
        {
          "output_type": "execute_result",
          "data": {
            "text/html": [
              "<div>\n",
              "<style scoped>\n",
              "    .dataframe tbody tr th:only-of-type {\n",
              "        vertical-align: middle;\n",
              "    }\n",
              "\n",
              "    .dataframe tbody tr th {\n",
              "        vertical-align: top;\n",
              "    }\n",
              "\n",
              "    .dataframe thead th {\n",
              "        text-align: right;\n",
              "    }\n",
              "</style>\n",
              "<table border=\"1\" class=\"dataframe\">\n",
              "  <thead>\n",
              "    <tr style=\"text-align: right;\">\n",
              "      <th></th>\n",
              "      <th>text</th>\n",
              "      <th>label</th>\n",
              "    </tr>\n",
              "  </thead>\n",
              "  <tbody>\n",
              "    <tr>\n",
              "      <th>0</th>\n",
              "      <td>config question path specific environment vari...</td>\n",
              "      <td>2</td>\n",
              "    </tr>\n",
              "    <tr>\n",
              "      <th>1</th>\n",
              "      <td>crash indien volde simulator crasht als hij vo...</td>\n",
              "      <td>0</td>\n",
              "    </tr>\n",
              "    <tr>\n",
              "      <th>2</th>\n",
              "      <td>unable to mine rockssarkasmo starting today wh...</td>\n",
              "      <td>0</td>\n",
              "    </tr>\n",
              "    <tr>\n",
              "      <th>3</th>\n",
              "      <td>not all whitelists are processedcreate followi...</td>\n",
              "      <td>0</td>\n",
              "    </tr>\n",
              "    <tr>\n",
              "      <th>4</th>\n",
              "      <td>add ctx menu for idafree and idafreeassociated...</td>\n",
              "      <td>1</td>\n",
              "    </tr>\n",
              "    <tr>\n",
              "      <th>...</th>\n",
              "      <td>...</td>\n",
              "      <td>...</td>\n",
              "    </tr>\n",
              "    <tr>\n",
              "      <th>29995</th>\n",
              "      <td>closing a project with running simulations doe...</td>\n",
              "      <td>0</td>\n",
              "    </tr>\n",
              "    <tr>\n",
              "      <th>29996</th>\n",
              "      <td>missing table description on db db iseries as ...</td>\n",
              "      <td>0</td>\n",
              "    </tr>\n",
              "    <tr>\n",
              "      <th>29997</th>\n",
              "      <td>cases when notification should be shownnew mes...</td>\n",
              "      <td>0</td>\n",
              "    </tr>\n",
              "    <tr>\n",
              "      <th>29998</th>\n",
              "      <td>ip errors in idea client when syncingi see the...</td>\n",
              "      <td>0</td>\n",
              "    </tr>\n",
              "    <tr>\n",
              "      <th>29999</th>\n",
              "      <td>portable open system pharmacology versionhello...</td>\n",
              "      <td>1</td>\n",
              "    </tr>\n",
              "  </tbody>\n",
              "</table>\n",
              "<p>30000 rows × 2 columns</p>\n",
              "</div>"
            ],
            "text/plain": [
              "                                                    text label\n",
              "0      config question path specific environment vari...     2\n",
              "1      crash indien volde simulator crasht als hij vo...     0\n",
              "2      unable to mine rockssarkasmo starting today wh...     0\n",
              "3      not all whitelists are processedcreate followi...     0\n",
              "4      add ctx menu for idafree and idafreeassociated...     1\n",
              "...                                                  ...   ...\n",
              "29995  closing a project with running simulations doe...     0\n",
              "29996  missing table description on db db iseries as ...     0\n",
              "29997  cases when notification should be shownnew mes...     0\n",
              "29998  ip errors in idea client when syncingi see the...     0\n",
              "29999  portable open system pharmacology versionhello...     1\n",
              "\n",
              "[30000 rows x 2 columns]"
            ]
          },
          "metadata": {
            "tags": []
          },
          "execution_count": 74
        }
      ]
    },
    {
      "cell_type": "code",
      "metadata": {
        "id": "8lxsE151RVbR"
      },
      "source": [
        "test.to_csv('/content/drive/My Drive/ml/github/submission_v3_Oct13.csv', columns=['label'], index=False)"
      ],
      "execution_count": null,
      "outputs": []
    }
  ]
}